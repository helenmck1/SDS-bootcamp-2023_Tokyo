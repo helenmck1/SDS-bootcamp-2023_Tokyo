{
  "cells": [
    {
      "cell_type": "markdown",
      "metadata": {
        "id": "hPjSHTOAEVBe"
      },
      "source": [
        "# Libraries / ライブラリー"
      ]
    },
    {
      "cell_type": "code",
      "execution_count": null,
      "metadata": {
        "colab": {
          "base_uri": "https://localhost:8080/"
        },
        "id": "f4JQZMC_N5CP",
        "outputId": "73eecdd0-d134-46b1-947a-fac09681f490"
      },
      "outputs": [],
      "source": [
        "# Install packages\n",
        "# パッケージのインストール\n",
        "!pip install pydeck-carto geopandas carto-auth[carto-dw] db_dtypes -q xgboost category-encoders numpy shap matplotlib seaborn"
      ]
    },
    {
      "cell_type": "code",
      "execution_count": null,
      "metadata": {
        "colab": {
          "base_uri": "https://localhost:8080/"
        },
        "id": "THxXUsnoOTwf",
        "outputId": "e9837fd1-de7c-40a0-a249-cd2a18f21d46"
      },
      "outputs": [],
      "source": [
        "# Carto / GoogleBigQuery\n",
        "import pydeck as pdk\n",
        "import pydeck_carto as pdkc\n",
        "from carto_auth import CartoAuth\n",
        "from google.cloud import bigquery\n",
        "\n",
        "# Plotting / プロット\n",
        "import matplotlib.pyplot as plt\n",
        "import seaborn as sns\n",
        "import shap\n",
        "\n",
        "# Analysis / 分析\n",
        "import numpy as np\n",
        "import pandas as pd\n",
        "import geopandas as gpd\n",
        "\n",
        "# Machine Learning / 機械学習\n",
        "import xgboost as xgb\n",
        "import category_encoders as ce\n",
        "from sklearn.linear_model import LinearRegression, LogisticRegression\n",
        "from sklearn.metrics import (\n",
        "    accuracy_score,\n",
        "    mean_absolute_error,\n",
        "    mean_squared_error,\n",
        "    r2_score,\n",
        ")\n",
        "from sklearn.model_selection import (\n",
        "    GridSearchCV,\n",
        "    KFold,\n",
        "    LeaveOneOut,\n",
        "    cross_val_score,\n",
        "    train_test_split,\n",
        ")"
      ]
    },
    {
      "cell_type": "markdown",
      "metadata": {
        "id": "yKfsQfR0Eaff"
      },
      "source": [
        "# Authentication / 認証"
      ]
    },
    {
      "cell_type": "code",
      "execution_count": null,
      "metadata": {
        "colab": {
          "base_uri": "https://localhost:8080/"
        },
        "id": "PaCA9KL8PuC_",
        "outputId": "08e7d57f-e280-43a9-9a33-a8deffec0fa4"
      },
      "outputs": [],
      "source": [
        "# Authenticate Carto\n",
        "# Cartoを認証する\n",
        "carto_auth = CartoAuth.from_oauth()\n",
        "carto_dw_client = carto_auth.get_carto_dw_client()"
      ]
    },
    {
      "cell_type": "markdown",
      "metadata": {
        "id": "tkPA9Q16yAU4"
      },
      "source": [
        "# Accessing Data / データへのアクセス"
      ]
    },
    {
      "cell_type": "markdown",
      "metadata": {
        "id": "Iy8wMP3mnGhZ"
      },
      "source": [
        "## CARTO Data Warehouse / CARTOデータウェアハウス"
      ]
    },
    {
      "cell_type": "code",
      "execution_count": null,
      "metadata": {
        "colab": {
          "base_uri": "https://localhost:8080/"
        },
        "id": "R8l7xuWqyEF9",
        "outputId": "6398c868-4a02-4574-87cf-c64da4feb723"
      },
      "outputs": [],
      "source": [
        "# List datasets in Carto Data Warehouse\n",
        "# Cartoデータウェアハウスのデータセットの表示\n",
        "datasets = list(carto_dw_client.list_datasets())\n",
        "\n",
        "if datasets:\n",
        "    print(\"Datasets in CARTO Data Warehouse:\")\n",
        "    for dataset in datasets:\n",
        "        print(\"\\t{}\".format(dataset.dataset_id))\n",
        "else:\n",
        "    print(\"CARTO Data Warehouse project does not contain any datasets.\")"
      ]
    },
    {
      "cell_type": "code",
      "execution_count": null,
      "metadata": {
        "colab": {
          "base_uri": "https://localhost:8080/"
        },
        "id": "acZl62LiyMNR",
        "outputId": "8a728100-eb34-4c39-a24f-7dadd712b5d3"
      },
      "outputs": [],
      "source": [
        "# List tables in chosen dataset\n",
        "# 選択したデータセットのテーブルをリストアップする\n",
        "dataset_id = 'shared_us'\n",
        "tables = carto_dw_client.list_tables(dataset_id)  # Make an API request.\n",
        "\n",
        "print(\"Tables contained in '{}':\".format(dataset_id))\n",
        "for table in tables:\n",
        "    print(\"{}.{}.{}\".format(table.project, table.dataset_id, table.table_id))\n"
      ]
    },
    {
      "cell_type": "code",
      "execution_count": null,
      "metadata": {
        "id": "lnkgIxRgyNtE"
      },
      "outputs": [],
      "source": [
        "# Provide your own Carto Data Observatory ID here.\n",
        "# ここにあなた自身のCarto Data Observatory IDを入力してください。\n",
        "cdw_dataset = \"carto-dw-ac-zn8l36fh\""
      ]
    },
    {
      "cell_type": "code",
      "execution_count": null,
      "metadata": {
        "colab": {
          "base_uri": "https://localhost:8080/",
          "height": 695
        },
        "id": "Fy-5A-Hn2jTg",
        "outputId": "897448f6-24a8-4c54-d713-d803c4d0fdfc"
      },
      "outputs": [],
      "source": [
        "# Query the London Listings table and visualize as GeoDataFrame\n",
        "# London Listingsテーブルを照会し、GeoDataFrameとして可視化する。\n",
        "table = carto_dw_client.get_table(f\"{cdw_dataset}.shared_us.london_listings_2023\")\n",
        "gdf = carto_dw_client.list_rows(table).to_geodataframe(\n",
        "    geography_column=\"geom\", create_bqstorage_client=False\n",
        ")\n",
        "display(gdf.head())"
      ]
    },
    {
      "cell_type": "markdown",
      "metadata": {
        "id": "-3alljIXnCD1"
      },
      "source": [
        "## Data Observatory / データ・オブザーバートリー"
      ]
    },
    {
      "cell_type": "code",
      "execution_count": null,
      "metadata": {
        "id": "b8Yn1J262mIn"
      },
      "outputs": [],
      "source": [
        "# Provide your own Carto Data Observatory ID here.\n",
        "# ここにあなた自身のCarto Data Observatory IDを入力してください。\n",
        "dataobs_dataset = \"carto-data.ac_zn8l36fh\""
      ]
    },
    {
      "cell_type": "code",
      "execution_count": null,
      "metadata": {
        "colab": {
          "base_uri": "https://localhost:8080/",
          "height": 587
        },
        "id": "M3x0zgRynDrH",
        "outputId": "07545e22-8db6-4500-a2e6-180c2ec89714"
      },
      "outputs": [],
      "source": [
        "# Get a list of all subscribed tables\n",
        "# 購読されている全テーブルのリストを取得する\n",
        "get_subscriptions_q = f\"\"\"\n",
        "  CALL `carto-un`.carto.DATAOBS_SUBSCRIPTIONS('{dataobs_dataset}',\"dataset_license = 'Public data'\");\n",
        "  \"\"\"\n",
        "\n",
        "subs_df = (\n",
        "    carto_dw_client.query(get_subscriptions_q)\n",
        "    .result()\n",
        "    .to_dataframe(create_bqstorage_client=False)\n",
        ")\n",
        "display(subs_df)"
      ]
    },
    {
      "cell_type": "code",
      "execution_count": null,
      "metadata": {
        "colab": {
          "base_uri": "https://localhost:8080/",
          "height": 143
        },
        "id": "pefB8f-hoVVG",
        "outputId": "02326a7a-5916-4c7a-9bd8-9d640f212297"
      },
      "outputs": [],
      "source": [
        "# Get the variables of a specific dataset\n",
        "# 特定のデータセットの変数を取得する\n",
        "get_dataset_variables = f\"\"\"\n",
        "CALL `carto-un`.carto.DATAOBS_SUBSCRIPTION_VARIABLES(\n",
        "    \"{dataobs_dataset}\",\n",
        "    \"dataset_slug = 'ons_ltla_a64e5794'\");\n",
        "\"\"\"\n",
        "carto_dw_client.query(get_dataset_variables).result().to_dataframe(create_bqstorage_client=False)"
      ]
    },
    {
      "cell_type": "code",
      "execution_count": null,
      "metadata": {
        "colab": {
          "base_uri": "https://localhost:8080/"
        },
        "id": "In0-XiPFne38",
        "outputId": "5daa588c-7d1e-44e0-fd55-bb648c119c00"
      },
      "outputs": [],
      "source": [
        "# Extract table ID and associated geography table if present\n",
        "# テーブルIDと関連する地理テーブルがあればそれを抽出する。\n",
        "table_id, geography_id = subs_df.query(\"dataset_slug == 'ons_ltla_a64e5794'\")[\n",
        "    [\"dataset_table\", \"associated_geography_table\"]\n",
        "].values.ravel()\n",
        "print(table_id, geography_id)\n"
      ]
    },
    {
      "cell_type": "code",
      "execution_count": null,
      "metadata": {
        "colab": {
          "base_uri": "https://localhost:8080/",
          "height": 206
        },
        "id": "QMUYLjd9nfGb",
        "outputId": "1420fde3-4e7a-48e5-f4cd-ef22b42227d8"
      },
      "outputs": [],
      "source": [
        "# Query table and visualzie as GeoDataFrame\n",
        "# GeoDataFrameとしてテーブルとビジュアルをクエリーする\n",
        "london_auth_q = f\"\"\"\n",
        "  SELECT *\n",
        "  FROM `{dataobs_dataset}.{table_id}`\n",
        "\"\"\"\n",
        "london_auth = (\n",
        "    carto_dw_client.query(london_auth_q)\n",
        "    .result()\n",
        "    .to_dataframe(create_bqstorage_client=False)\n",
        ")\n",
        "london_auth.sample(5)\n"
      ]
    },
    {
      "cell_type": "markdown",
      "metadata": {
        "id": "hYhjxqYfJj2b"
      },
      "source": [
        "# Visualizing Data / データの可視化"
      ]
    },
    {
      "cell_type": "markdown",
      "metadata": {
        "id": "zGK8zI8JTRKS"
      },
      "source": [
        "## CARTO Data Warehouse / CARTOデータウェアハウス"
      ]
    },
    {
      "cell_type": "code",
      "execution_count": null,
      "metadata": {
        "colab": {
          "base_uri": "https://localhost:8080/",
          "height": 800
        },
        "id": "VWSutEHb3Cul",
        "outputId": "cf0ad075-9a52-4134-d514-6bf233c01f6c"
      },
      "outputs": [],
      "source": [
        "# Register CartoLayer in pydeck\n",
        "# pydeckにCartoLayerを登録する。\n",
        "pdkc.register_carto_layer()\n",
        "\n",
        "# Render first CartoLayer CartoLayer\n",
        "# 最初の CartoLayer CartoLayer をレンダリングする。\n",
        "layer = pdk.Layer(\n",
        "    \"CartoLayer\",\n",
        "    data=f\"SELECT geom, price FROM `{cdw_dataset}.shared_us.london_listings_2023_joined`\",\n",
        "    type_=pdkc.MapType.QUERY,\n",
        "    connection=pdkc.CartoConnection.CARTO_DW,\n",
        "    credentials=pdkc.get_layer_credentials(carto_auth),\n",
        "    point_radius_min_pixels=2.5,\n",
        "    get_fill_color=pdkc.styles.color_bins(\n",
        "        \"price\", [0, 100, 200, 300, 400, 500], \"PinkYl\"\n",
        "    ),\n",
        "    get_line_color=[0, 0, 0, 100],\n",
        ")\n",
        "\n",
        "# Set initial viewing location/zoom/angle\n",
        "# 初期表示位置/ズーム/アングルを設定する\n",
        "view_state = pdk.ViewState(\n",
        "    latitude=51.50071697877869, longitude=-0.12461158468895285, zoom=8\n",
        ")\n",
        "\n",
        "# Initialize map\n",
        "# マップの初期化\n",
        "pdk.Deck(layer, map_style=pdk.map_styles.ROAD, initial_view_state=view_state).to_html(\n",
        "    iframe_height=800\n",
        ")"
      ]
    },
    {
      "cell_type": "code",
      "execution_count": null,
      "metadata": {
        "colab": {
          "base_uri": "https://localhost:8080/",
          "height": 800
        },
        "id": "7T19q1JN7e-1",
        "outputId": "2f6fc935-fc7f-465c-97e9-eacce5acc833"
      },
      "outputs": [],
      "source": [
        "# Register CartoLayer in pydeck\n",
        "# pydeckにCartoLayerを登録する。\n",
        "pdkc.register_carto_layer()\n",
        "\n",
        "# Render first CartoLayer CartoLayer\n",
        "# 最初の CartoLayer CartoLayer をレンダリングする。\n",
        "layer = pdk.Layer(\n",
        "    \"CartoLayer\",\n",
        "    data=f\"SELECT h3, price FROM `{cdw_dataset}.shared_us.london_listings_2023_joined`\",\n",
        "    type_=pdkc.MapType.QUERY,\n",
        "    connection=pdkc.CartoConnection.CARTO_DW,\n",
        "    credentials=pdkc.get_layer_credentials(carto_auth),\n",
        "    aggregation_exp=pdk.types.String(\"avg(price) as price\"),\n",
        "    aggregation_res_level=8,\n",
        "    geo_column=pdk.types.String(\"h3\"),\n",
        "    get_fill_color=pdkc.styles.color_bins(\n",
        "        \"price\", [0, 100, 200, 300, 400, 500], \"PurpOr\"\n",
        "    ),\n",
        "    get_line_color=[0, 0, 0, 100],\n",
        "    line_width_min_pixels=1,\n",
        "    opacity=0.4,\n",
        "    stroked=True,\n",
        "    extruded=False,\n",
        "    pickable=True,\n",
        ")\n",
        "\n",
        "# Add tooltip to show values on map\n",
        "# 地図上に値を表示するツールチップを追加する\n",
        "tooltip = {\n",
        "    \"html\": \"H3: <b>{id}</b><br />Price: <b>{price}</b>\",\n",
        "    \"style\": {\n",
        "        \"background\": \"grey\",\n",
        "        \"color\": \"white\",\n",
        "        \"font-family\": '\"Helvetica Neue\", Arial',\n",
        "        \"z-index\": \"10000\",\n",
        "    },\n",
        "}\n",
        "\n",
        "# Set initial viewing location/zoom/angle\n",
        "# 初期表示位置/ズーム/アングルを設定する\n",
        "view_state = pdk.ViewState(\n",
        "    latitude=51.50071697877869, longitude=-0.12461158468895285, zoom=8\n",
        ")\n",
        "\n",
        "# Initialize map\n",
        "# マップの初期化\n",
        "pdk.Deck(\n",
        "    layer, map_style=pdk.map_styles.ROAD, tooltip=tooltip, initial_view_state=view_state\n",
        ").to_html(iframe_height=800)"
      ]
    },
    {
      "cell_type": "markdown",
      "metadata": {
        "id": "bzcibcAdEoWG"
      },
      "source": [
        "## Data Observatory / / データ・オブザーバートリー"
      ]
    },
    {
      "cell_type": "code",
      "execution_count": null,
      "metadata": {
        "colab": {
          "base_uri": "https://localhost:8080/",
          "height": 587
        },
        "id": "IisHyTQGr2sH",
        "outputId": "6e6df3e7-80c2-436f-96ac-6e872b038f7b"
      },
      "outputs": [],
      "source": [
        "# Get a list of all subscribed tables again\n",
        "# 再びすべての購読テーブルのリストを取得する\n",
        "get_subscriptions_q = f\"\"\"\n",
        "  CALL `carto-un`.carto.DATAOBS_SUBSCRIPTIONS('{dataobs_dataset}',\"dataset_license = 'Public data'\");\n",
        "  \"\"\"\n",
        "\n",
        "subs_df = carto_dw_client.query(get_subscriptions_q).result().to_dataframe(create_bqstorage_client=False)\n",
        "display(subs_df)"
      ]
    },
    {
      "cell_type": "code",
      "execution_count": null,
      "metadata": {
        "id": "sl8tpzPmzfys"
      },
      "outputs": [],
      "source": [
        "# Extract table ID and associated geography table if present\n",
        "# テーブルIDと関連する地理テーブルがあればそれを抽出する。\n",
        "dataset_id, geography_id = subs_df.query(\n",
        "    \"dataset_name == 'Lower Tier Local Authority - United Kingdom (2021)'\"\n",
        ")[[\"dataset_table\", \"associated_geography_table\"]].values.ravel()"
      ]
    },
    {
      "cell_type": "code",
      "execution_count": null,
      "metadata": {
        "colab": {
          "base_uri": "https://localhost:8080/",
          "height": 800
        },
        "id": "SuED8ZJROJAk",
        "outputId": "3bc62d68-588f-443b-ef17-ab6691450a14"
      },
      "outputs": [],
      "source": [
        "# Register CartoLayer in pydeck\n",
        "# pydeckにCartoLayerを登録する。\n",
        "pdkc.register_carto_layer()\n",
        "\n",
        "\n",
        "# Render first CartoLayer CartoLayer\n",
        "# 最初の CartoLayer CartoLayer をレンダリングする。\n",
        "layer = pdk.Layer(\n",
        "    \"CartoLayer\",\n",
        "    data = f\"SELECT * FROM `{dataobs_dataset}.{dataset_id}`\",\n",
        "    geo_column=pdk.types.String(\"geom\"),\n",
        "    type_=pdkc.MapType.QUERY,\n",
        "    connection=pdkc.CartoConnection.CARTO_DW,\n",
        "    credentials=pdkc.get_layer_credentials(carto_auth),\n",
        "    get_fill_color=[238, 77, 90],\n",
        "    get_line_color=[0, 0, 0, 100],\n",
        "    line_width_min_pixels=1,\n",
        "    opacity=0.2,\n",
        "    pickable=True,\n",
        "    stroked=True,\n",
        "    )\n",
        "\n",
        "# Add tooltip to show values on map\n",
        "# 地図上に値を表示するツールチップを追加する\n",
        "tooltip = {\n",
        "    \"html\": \"Mobility: <b>{y2016}</b>\",\n",
        "    \"style\": {\n",
        "        \"background\": \"grey\",\n",
        "        \"color\": \"white\",\n",
        "        \"font-family\":\n",
        "        '\"Helvetica Neue\", Arial',\n",
        "        \"z-index\": \"10000\"\n",
        "    },\n",
        "}\n",
        "\n",
        "# Set initial viewing location/zoom/angle\n",
        "# 初期表示位置/ズーム/アングルを設定する\n",
        "view_state = pdk.ViewState(\n",
        "    latitude=51.50071697877869,\n",
        "    longitude=-0.12461158468895285,\n",
        "    zoom=5\n",
        ")\n",
        "\n",
        "# Initialize map\n",
        "# マップの初期化\n",
        "pdk.Deck(\n",
        "    layer,\n",
        "    tooltip = tooltip,\n",
        "    initial_view_state=view_state,\n",
        "    map_style=pdk.map_styles.LIGHT_NO_LABELS\n",
        ").to_html(iframe_height = 800)"
      ]
    },
    {
      "cell_type": "code",
      "execution_count": null,
      "metadata": {
        "id": "3S32SaOQz-VR"
      },
      "outputs": [],
      "source": [
        "# Extract table ID and associated geography table if present\n",
        "# テーブルIDと関連する地理テーブルがあればそれを抽出する。\n",
        "dataset_id, geography_id = subs_df.query(\"dataset_name == 'Residential Mobility Index - United Kingdom (Lower Super Output Area)'\")[[\"dataset_table\", \"associated_geography_table\"]].values.ravel()"
      ]
    },
    {
      "cell_type": "code",
      "execution_count": null,
      "metadata": {
        "colab": {
          "base_uri": "https://localhost:8080/",
          "height": 800
        },
        "id": "Q5GTJgFBqn-I",
        "outputId": "d1bcdcbf-97ee-4feb-9f8c-4f5077a3a695"
      },
      "outputs": [],
      "source": [
        "# Register CartoLayer in pydeck\n",
        "# pydeckにCartoLayerを登録する。\n",
        "pdkc.register_carto_layer()\n",
        "\n",
        "# Render first CartoLayer CartoLayer\n",
        "# 最初の CartoLayer CartoLayer をレンダリングする。\n",
        "layer_one = pdk.Layer(\n",
        "    \"CartoLayer\",\n",
        "    data = f\"\"\"SELECT y2016, geom\n",
        "    FROM `{dataobs_dataset}.{dataset_id}` d\n",
        "    JOIN `{dataobs_dataset}.{geography_id}` g\n",
        "    ON d.geoid = g.geoid\"\"\",\n",
        "    geo_column=pdk.types.String(\"geom\"),\n",
        "    type_=pdkc.MapType.QUERY,\n",
        "    connection=pdkc.CartoConnection.CARTO_DW,\n",
        "    credentials=pdkc.get_layer_credentials(carto_auth),\n",
        "    get_fill_color=pdkc.styles.color_bins(\"y2016\",[0, 0.07, 0.08, 0.09, 0.1, 0.11, 1], \"Emrld\"),\n",
        "    get_line_color=[0, 0, 0, 100],\n",
        "    line_width_min_pixels=1,\n",
        "    opacity=0.5,\n",
        "    pickable=True,\n",
        "    stroked=True,\n",
        "    )\n",
        "\n",
        "# Render first CartoLayer CartoLayer\n",
        "# 2番目のCartoLayer CartoLayer をレンダリングする。\n",
        "layer_two = pdk.Layer(\n",
        "    \"CartoLayer\",\n",
        "    data=f\"SELECT geom, price FROM `{cdw_dataset}.shared_us.london_listings_2023_joined`\",\n",
        "    type_=pdkc.MapType.QUERY,\n",
        "    connection=pdkc.CartoConnection.CARTO_DW,\n",
        "    credentials=pdkc.get_layer_credentials(carto_auth),\n",
        "    point_radius_min_pixels=2.0,\n",
        "    get_fill_color=[255, 100, 100],\n",
        "    get_line_color=[0, 0, 0, 100]\n",
        ")\n",
        "\n",
        "# Add tooltip to show values on map\n",
        "# 地図上に値を表示するツールチップを追加する\n",
        "tooltip = {\n",
        "    \"html\": \"Mobility: <b>{y2016}</b>\",\n",
        "    \"style\": {\n",
        "        \"background\": \"grey\",\n",
        "        \"color\": \"white\",\n",
        "        \"font-family\":\n",
        "        '\"Helvetica Neue\", Arial',\n",
        "        \"z-index\": \"10000\"\n",
        "    },\n",
        "}\n",
        "\n",
        "# Set initial viewing location/zoom/angle\n",
        "# 初期表示位置/ズーム/アングルを設定する\n",
        "view_state = pdk.ViewState(\n",
        "    latitude=51.50071697877869, longitude=-0.12461158468895285, zoom=8\n",
        ")\n",
        "\n",
        "# Initialize map\n",
        "# マップの初期化\n",
        "pdk.Deck(\n",
        "    [layer_one, layer_two],\n",
        "    tooltip = tooltip,\n",
        "    initial_view_state=view_state,\n",
        "    map_style=pdk.map_styles.LIGHT,\n",
        ").to_html(iframe_height = 800)"
      ]
    },
    {
      "cell_type": "markdown",
      "metadata": {
        "id": "fZqEmFSn3QF2"
      },
      "source": [
        "# Data preparation / データ準備"
      ]
    },
    {
      "cell_type": "markdown",
      "metadata": {
        "id": "SJPkDQBB36Av"
      },
      "source": [
        "## Data cleaning / データクリーニング"
      ]
    },
    {
      "cell_type": "code",
      "execution_count": null,
      "metadata": {
        "colab": {
          "base_uri": "https://localhost:8080/",
          "height": 822
        },
        "id": "Ia_jcFzFqaDB",
        "outputId": "d90c1f59-f4dc-4842-f8ab-8fc96a9e2a9e"
      },
      "outputs": [],
      "source": [
        "# Load joined Carto Workflow table into a DataFrame\n",
        "# 結合されたCarto WorkflowテーブルをDataFrameにロードする。\n",
        "table = carto_dw_client.get_table(\n",
        "    f\"{cdw_dataset}.shared_us.london_listings_2023_joined\"\n",
        ")\n",
        "gdf_load = carto_dw_client.list_rows(table).to_geodataframe(\n",
        "    geography_column=\"geom\", create_bqstorage_client=False\n",
        ")\n",
        "\n",
        "# Create an index on the table\n",
        "# テーブルにインデックスを作成する\n",
        "idx = \"index\"\n",
        "gdf_load = gdf_load.reset_index()\n",
        "gdf_load = gdf_load.set_index(idx)\n",
        "gdf_load\n"
      ]
    },
    {
      "cell_type": "code",
      "execution_count": null,
      "metadata": {
        "id": "X5zZYKtH4bC6"
      },
      "outputs": [],
      "source": [
        "# Drop geometry columns\n",
        "# ジオメトリの列を削除する\n",
        "gdf_clean = gdf_load.drop(['h3_geo', 'h3', 'geom', 'h3_joined'], axis=1)"
      ]
    },
    {
      "cell_type": "code",
      "execution_count": null,
      "metadata": {
        "colab": {
          "base_uri": "https://localhost:8080/",
          "height": 455
        },
        "id": "FFFA0iWPFvVH",
        "outputId": "dc0f76c9-9f80-4c23-f594-3d4740e02e51"
      },
      "outputs": [],
      "source": [
        "# Rename columns created by join in workflow\n",
        "# ワークフローで結合によって作成された列の名前を変更する\n",
        "gdf_clean.rename(columns={\"population_joined\": \"population\",\n",
        "                          \"leisure_joined\": \"lesiure\",\n",
        "                          \"tourism_joined\": \"tourism\",\n",
        "                          \"transportation_joined\": \"transportation\"}, inplace=True)\n",
        "gdf_clean"
      ]
    },
    {
      "cell_type": "code",
      "execution_count": null,
      "metadata": {
        "id": "MACWUHnuVV0R"
      },
      "outputs": [],
      "source": [
        "# Declare numerical, categorical and target variables\n",
        "# 数値変数、カテゴリー変数、ターゲット変数の宣言\n",
        "categorical_variables = [\"neighbourhood\", \"room_type\", \"workplace_zone\"]\n",
        "numerical_variables = [\n",
        "    \"minimum_nights\",\n",
        "    \"number_of_reviews\",\n",
        "    \"reviews_per_month\",\n",
        "    \"availability_365\",\n",
        "    \"population\",\n",
        "    \"lesiure\",\n",
        "    \"tourism\",\n",
        "    \"transportation\",\n",
        "    \"mobility\",\n",
        "]\n",
        "target = \"price\""
      ]
    },
    {
      "cell_type": "code",
      "execution_count": null,
      "metadata": {
        "colab": {
          "base_uri": "https://localhost:8080/"
        },
        "id": "_gy5Xvsy4ZQj",
        "outputId": "0f6ee924-1275-4dd4-adfb-9697f5f73132"
      },
      "outputs": [],
      "source": [
        "# Check data types for each column\n",
        "# 各列のデータ型をチェックする\n",
        "gdf_clean.dtypes"
      ]
    },
    {
      "cell_type": "code",
      "execution_count": null,
      "metadata": {
        "colab": {
          "base_uri": "https://localhost:8080/",
          "height": 455
        },
        "id": "n5SF1dKM4ZtW",
        "outputId": "11d269df-1dd0-4e63-8afe-0fbba9a34e2d"
      },
      "outputs": [],
      "source": [
        "# Force data types for our variables\n",
        "# 変数のデータ型を強制する\n",
        "for cat in categorical_variables:\n",
        "  gdf_clean[cat] = gdf_clean[cat].astype('object')\n",
        "\n",
        "for num in [numerical_variables + [target]]:\n",
        "  gdf_clean[num] = gdf_clean[num].astype('float64')\n",
        "\n",
        "gdf_clean"
      ]
    },
    {
      "cell_type": "markdown",
      "metadata": {
        "id": "H8Xj5iEM3PUN"
      },
      "source": [
        "## Feature Analysis / 特徴分析"
      ]
    },
    {
      "cell_type": "code",
      "execution_count": null,
      "metadata": {
        "colab": {
          "base_uri": "https://localhost:8080/",
          "height": 801
        },
        "id": "0aB9jB77RiZV",
        "outputId": "ad14ec76-f9f0-46e4-911c-02d6ad57ab2c"
      },
      "outputs": [],
      "source": [
        "# Check correlation between input variables\n",
        "# 入力変数間の相関をチェックする\n",
        "correlations = gdf_clean.corr(numeric_only=True)\n",
        "\n",
        "fig, axes = plt.subplots(figsize=(10,10), facecolor='white')\n",
        "sns.heatmap(correlations, vmax=1.0, center=0, fmt='.2f', cmap=\"YlGnBu\",\n",
        "            square=True, linewidths=.5, annot=True, cbar_kws={\"shrink\": .70}, ax=axes)\n",
        "plt.show()"
      ]
    },
    {
      "cell_type": "code",
      "execution_count": null,
      "metadata": {
        "colab": {
          "base_uri": "https://localhost:8080/",
          "height": 497
        },
        "id": "6EAKFb6bSzyh",
        "outputId": "3a00a3fc-0e42-43de-a6e2-357aa20065b0"
      },
      "outputs": [],
      "source": [
        "# Count plot for target variable\n",
        "# ターゲット変数のカウントプロット\n",
        "sns.set(style='whitegrid', palette=\"deep\", font_scale=1.1, rc={\"figure.figsize\": [10, 10]})\n",
        "sns.displot(gdf_clean['price'], kde=False, bins=20,).set(xlabel='Price', ylabel='Count');"
      ]
    },
    {
      "cell_type": "code",
      "execution_count": null,
      "metadata": {
        "colab": {
          "base_uri": "https://localhost:8080/",
          "height": 552
        },
        "id": "lnOqX16IUjun",
        "outputId": "c56a440c-c1fd-4996-fbde-73cd4cc71620"
      },
      "outputs": [],
      "source": [
        "# Count plot for target numerical variables\n",
        "# 数値変数のカウントプロット\n",
        "gdf_clean[numerical_variables].hist(bins=15, figsize=(15, 6), layout=(2, 5));"
      ]
    },
    {
      "cell_type": "code",
      "execution_count": null,
      "metadata": {
        "colab": {
          "base_uri": "https://localhost:8080/",
          "height": 1000
        },
        "id": "eqGCvkZ3Zd0g",
        "outputId": "dc05df0d-1428-41c6-8874-771de26bfdab"
      },
      "outputs": [],
      "source": [
        "# Count plot for target categorical variables\n",
        "# カテゴリー変数のカウントプロット\n",
        "\n",
        "# Select the columns to be plotted\n",
        "# プロットする列を選択する\n",
        "cols = [\"room_type\", \"workplace_zone\"]\n",
        "\n",
        "fig, axes = plt.subplots(1, 2)\n",
        "axes = axes.ravel()\n",
        "\n",
        "for col, ax in zip(cols, axes):\n",
        "    sns.histplot(gdf_clean[col], ax=ax).set_xticklabels(\n",
        "        ax.get_xticklabels(), rotation=90\n",
        "    )\n",
        "\n",
        "fig.tight_layout()\n",
        "plt.show()"
      ]
    },
    {
      "cell_type": "markdown",
      "metadata": {
        "id": "MRE_BtIsILP_"
      },
      "source": [
        "## Null values and Outliers"
      ]
    },
    {
      "cell_type": "code",
      "execution_count": null,
      "metadata": {
        "colab": {
          "base_uri": "https://localhost:8080/",
          "height": 363
        },
        "id": "dOuajgG-JQWb",
        "outputId": "87a6cbfd-dcfa-471a-8a51-597cfcdd0269"
      },
      "outputs": [],
      "source": [
        "# Use df.describe to check percentiles for each numerical colummn\n",
        "# df.describeを使って各数値列のパーセンタイルをチェックする\n",
        "gdf_selected = gdf_clean.copy()\n",
        "gdf_selected.describe(percentiles=[.25, .5, .75, .95, .99])"
      ]
    },
    {
      "cell_type": "code",
      "execution_count": null,
      "metadata": {
        "colab": {
          "base_uri": "https://localhost:8080/",
          "height": 455
        },
        "id": "VHbH5mhRJZLc",
        "outputId": "85a3951a-b5a8-4016-e379-e87859e24abe"
      },
      "outputs": [],
      "source": [
        "# Remove data from selected columns not within the 99th percentile\n",
        "# 選択された列から99パーセンタイル以内のデータを削除する。\n",
        "gdf_selected = gdf_selected[gdf_selected['price'] >= 10]\n",
        "gdf_selected = gdf_selected[gdf_selected['price'] <= 1570]\n",
        "gdf_selected = gdf_selected[gdf_selected['minimum_nights'] <= 90]\n",
        "gdf_selected"
      ]
    },
    {
      "cell_type": "code",
      "execution_count": null,
      "metadata": {
        "colab": {
          "base_uri": "https://localhost:8080/",
          "height": 260
        },
        "id": "nLk3bBkA6_HY",
        "outputId": "ccf7aaa7-1abd-4157-f57e-942238280f4a"
      },
      "outputs": [],
      "source": [
        "# Display null values\n",
        "# ヌル値を表示する\n",
        "display(gdf_selected.isnull().sum())"
      ]
    },
    {
      "cell_type": "code",
      "execution_count": null,
      "metadata": {
        "colab": {
          "base_uri": "https://localhost:8080/",
          "height": 260
        },
        "id": "bVhrjaNu17Nv",
        "outputId": "5526f547-7584-45b6-cf49-b0449f5301a7"
      },
      "outputs": [],
      "source": [
        "# Fill remaining null values with 0\n",
        "# 残りのヌル値を0で埋める\n",
        "gdf_selected = gdf_selected.fillna(0)\n",
        "display(gdf_selected.isnull().sum())"
      ]
    },
    {
      "cell_type": "markdown",
      "metadata": {
        "id": "b83BwLRkxtnS"
      },
      "source": [
        "## Encoding"
      ]
    },
    {
      "cell_type": "code",
      "execution_count": null,
      "metadata": {
        "id": "AezE7vq_fBaX"
      },
      "outputs": [],
      "source": [
        "gdf_encoded = gdf_selected.copy()"
      ]
    },
    {
      "cell_type": "code",
      "execution_count": null,
      "metadata": {
        "colab": {
          "base_uri": "https://localhost:8080/",
          "height": 507
        },
        "id": "E6muFd0A7GfE",
        "outputId": "642d2609-bef5-4025-db8a-2ffab5b4674e"
      },
      "outputs": [],
      "source": [
        "# Display categorical features and their respective cardinality\n",
        "# カテゴリカルな特徴とそれぞれのカーディナリティを表示します\n",
        "display(gdf_encoded[categorical_variables])\n",
        "for cat in categorical_variables:\n",
        "    print(cat, gdf_encoded[cat].nunique())"
      ]
    },
    {
      "cell_type": "code",
      "execution_count": null,
      "metadata": {
        "colab": {
          "base_uri": "https://localhost:8080/",
          "height": 492
        },
        "id": "K_wgqlFgE7fV",
        "outputId": "3d629162-1ec7-4127-bee0-fc716f1dc904"
      },
      "outputs": [],
      "source": [
        "# Nominal variable and cardinality < 15, use OneHot Encoding\n",
        "# 名目変数でカーディナリティが15未満の場合、OneHotエンコーディングを使用する。\n",
        "gdf_encoded = pd.get_dummies(gdf_encoded, columns=[\"room_type\", \"workplace_zone\"])\n",
        "\n",
        "# Nominal variable and cardinality > 15, use Target Encoding\n",
        "# 名目変数でカーディナリティが15を超える場合は、ターゲットエンコーディングを使用する。\n",
        "encoder = ce.TargetEncoder()\n",
        "gdf_encoded[\"neighbourhood\"] = encoder.fit_transform(gdf_encoded['neighbourhood'], gdf_encoded['price'])\n",
        "gdf_encoded"
      ]
    },
    {
      "cell_type": "code",
      "execution_count": null,
      "metadata": {
        "colab": {
          "base_uri": "https://localhost:8080/"
        },
        "id": "dJUshyV2FL21",
        "outputId": "8d956ab4-7867-490a-fbd9-ee2f01f729ac"
      },
      "outputs": [],
      "source": [
        "# Check dtypes of final cleaned,selected and encoded table\n",
        "# 最終的にクリーニングされ、選択され、エンコードされたテーブルのd型をチェックする\n",
        "gdf_encoded.dtypes"
      ]
    },
    {
      "cell_type": "code",
      "execution_count": null,
      "metadata": {
        "id": "7waF2SxX8iWH"
      },
      "outputs": [],
      "source": [
        "# Split dataset into dependent and independent variables (X and y)\n",
        "# データセットを従属変数と独立変数 (X と y) に分割する\n",
        "X = gdf_encoded.drop(\"price\", axis=1).copy()\n",
        "y = gdf_encoded[\"price\"].copy()\n",
        "\n",
        "# Split X and y data into train and test data 80/20\n",
        "# XとYのデータを訓練データとテストデータに分ける 80/20\n",
        "X_train, X_test, y_train, y_test = train_test_split(X, y, random_state=14, test_size=.2)"
      ]
    },
    {
      "cell_type": "code",
      "execution_count": null,
      "metadata": {
        "colab": {
          "base_uri": "https://localhost:8080/",
          "height": 1000
        },
        "id": "9ElTUFf1Fr-5",
        "outputId": "f03b32be-6033-4816-918e-10cf11260a94"
      },
      "outputs": [],
      "source": [
        "# Visualize final split data\n",
        "# 最終的な分割データを視覚化する\n",
        "display(X_train)\n",
        "display(y_train)\n",
        "display(X_test)\n",
        "display(y_test)"
      ]
    },
    {
      "cell_type": "markdown",
      "metadata": {
        "id": "U6Z_eNdS3XTT"
      },
      "source": [
        "# Models"
      ]
    },
    {
      "cell_type": "markdown",
      "metadata": {
        "id": "8mKTpSnJJpr0"
      },
      "source": [
        "## XGBOOST"
      ]
    },
    {
      "cell_type": "code",
      "execution_count": null,
      "metadata": {
        "id": "SWiZOdhoxmGk"
      },
      "outputs": [],
      "source": [
        "# Create model instance\n",
        "# モデルのインスタンスを作成する\n",
        "xgb_model = xgb.XGBRegressor(\n",
        "    seed=39,\n",
        "    eval_metric=[\"mae\", \"rmse\"],\n",
        "    #gpu_id=0,\n",
        "    #tree_method = 'gpu_hist',\n",
        "    #predictor = 'gpu_predictor'\n",
        ")"
      ]
    },
    {
      "cell_type": "code",
      "execution_count": null,
      "metadata": {
        "colab": {
          "base_uri": "https://localhost:8080/",
          "height": 248
        },
        "id": "qxSJQBnQS35f",
        "outputId": "0fda94fe-a7a9-4a03-d532-1aee435aba61"
      },
      "outputs": [],
      "source": [
        "# Train the model\n",
        "# モデルをトレーニングする\n",
        "eval_set = [(X_train, y_train), (X_test, y_test)]\n",
        "xgb_model.fit(X_train, y_train, verbose=0, eval_set=eval_set)"
      ]
    },
    {
      "cell_type": "code",
      "execution_count": null,
      "metadata": {
        "colab": {
          "base_uri": "https://localhost:8080/"
        },
        "id": "-hDxfQlPQovB",
        "outputId": "91f18ea5-06cd-49e4-cf09-91fefe55c5ee"
      },
      "outputs": [],
      "source": [
        "# Make predictions on our test data\n",
        "# テストデータで予測を行う\n",
        "preds = xgb_model.predict(X_test)\n",
        "predictions = [round(value) for value in preds]\n",
        "print(predictions[0:10])\n",
        "print([round(value) for value in list(y_test)][0:10])"
      ]
    },
    {
      "cell_type": "code",
      "execution_count": null,
      "metadata": {
        "colab": {
          "base_uri": "https://localhost:8080/"
        },
        "id": "H7c3OkX8BvsD",
        "outputId": "c3cb037e-68bb-4fd9-98d7-d360dc664f95"
      },
      "outputs": [],
      "source": [
        "# Evaluate model\n",
        "# モデルを評価する\n",
        "\n",
        "# R2 score / R2スコア\n",
        "print(\"R^2 :\", r2_score(y_test, predictions))\n",
        "# Adjusted R2 / 調整後R2\n",
        "print(\"Adjusted R^2 :\", 1 - (1-xgb_model.score(X, y))*(len(y)-1)/(len(y)-X.shape[1]-1))\n",
        "# Mean Average Error / 平均平均誤差\n",
        "print(\"MAE :\", mean_absolute_error(y_test,predictions))\n",
        "# Root Mean Squared Error / 平均二乗誤差\n",
        "print(\"RMSE:\", np.sqrt(mean_squared_error(y_test, predictions)))"
      ]
    },
    {
      "cell_type": "markdown",
      "metadata": {
        "id": "RbT9XPJJrj5v"
      },
      "source": [
        "## Validation & Plotting"
      ]
    },
    {
      "cell_type": "code",
      "execution_count": null,
      "metadata": {
        "colab": {
          "base_uri": "https://localhost:8080/"
        },
        "id": "atV8bteccTZ-",
        "outputId": "6cef87a7-393e-4641-bbd7-7031d76de1e4"
      },
      "outputs": [],
      "source": [
        "# Calculate the shap values (GPU reccomended)\n",
        "# シャップ値を計算する（GPU推奨）\n",
        "explainer = shap.TreeExplainer(xgb_model)\n",
        "shap_values = explainer.shap_values(X_test)\n",
        "expected_value = explainer.expected_value\n",
        "\n",
        "if isinstance(expected_value, list):\n",
        "    expected_value = expected_value[1]\n",
        "print(f\"Explainer expected value: {expected_value}\")"
      ]
    },
    {
      "cell_type": "code",
      "execution_count": null,
      "metadata": {
        "colab": {
          "base_uri": "https://localhost:8080/",
          "height": 947
        },
        "id": "l38K6lXv-Lek",
        "outputId": "7aed0479-0c03-4a4d-ad41-f8f35ee9b1c9"
      },
      "outputs": [],
      "source": [
        "# Create summary plot, showing the most impactful features\n",
        "# 最もインパクトのある特徴を示すサマリープロットを作成する\n",
        "shap.summary_plot(shap_values, X_test, plot_type=\"bar\", show=True)"
      ]
    },
    {
      "cell_type": "code",
      "execution_count": null,
      "metadata": {
        "colab": {
          "base_uri": "https://localhost:8080/",
          "height": 964
        },
        "id": "192mFADR_Jl_",
        "outputId": "faf2d292-ff3a-43ae-81cd-f61895fc896f"
      },
      "outputs": [],
      "source": [
        "# Same plot as above but this time we can see the distribution of values\n",
        "# 上と同じプロットだが、今回は値の分布を見ることができる\n",
        "shap.summary_plot(shap_values, X_test, plot_type='violin', show=True)"
      ]
    },
    {
      "cell_type": "code",
      "execution_count": null,
      "metadata": {
        "colab": {
          "base_uri": "https://localhost:8080/",
          "height": 848
        },
        "id": "IvB9pnjycCgN",
        "outputId": "aa845812-6ee8-48d0-8f71-25354009b4ef"
      },
      "outputs": [],
      "source": [
        "# Create a decision plot for the first 5 predictions, showing how the model arrived at its prediction\n",
        "# 最初の5つの予測についてデシジョンプロットを作成し、モデルがどのように予測に至ったかを示す\n",
        "select = range(5)\n",
        "features = X_test.iloc[select]\n",
        "shap_values = explainer.shap_values(features)\n",
        "\n",
        "shap.decision_plot(expected_value, shap_values, features, show=True)"
      ]
    },
    {
      "cell_type": "code",
      "execution_count": null,
      "metadata": {
        "colab": {
          "base_uri": "https://localhost:8080/",
          "height": 848
        },
        "id": "-yU8bbkd4dHG",
        "outputId": "29478c70-6382-4ffc-b760-36d599ae8021"
      },
      "outputs": [],
      "source": [
        "# Same plot as above but with one prediction only so we can see the values at each step\n",
        "# 各ステップでの値を見ることができるように、上記と同じプロットだが、予測は1回のみとする\n",
        "select = range(1)\n",
        "features = X_test.iloc[select]\n",
        "\n",
        "shap_values = explainer.shap_values(features)\n",
        "shap.decision_plot(expected_value, shap_values, features, show=True)"
      ]
    },
    {
      "cell_type": "code",
      "execution_count": null,
      "metadata": {
        "colab": {
          "base_uri": "https://localhost:8080/",
          "height": 379
        },
        "id": "QN5dOY2D5e4i",
        "outputId": "ff733ab6-09ca-4aef-d3c6-ddd563bf37bc"
      },
      "outputs": [],
      "source": [
        "# Create force plot for the same predictions, a different way of visualizing feature impact\n",
        "# 同じ予測に対してフォースプロットを作成し、特徴の影響を別の方法で視覚化する\n",
        "select = range(1)\n",
        "features = X_test.iloc[select]\n",
        "shap_values = explainer.shap_values(features)\n",
        "\n",
        "shap.force_plot(expected_value, shap_values, features, text_rotation=10, matplotlib=True)"
      ]
    },
    {
      "cell_type": "markdown",
      "metadata": {
        "id": "7QsOjUZU3AhJ"
      },
      "source": [
        "## Model optimization\n"
      ]
    },
    {
      "cell_type": "code",
      "execution_count": null,
      "metadata": {
        "id": "WrBG_1s7JyW-"
      },
      "outputs": [],
      "source": [
        "# Initialize default model and choose the combination of hyperparameters to use during GridSearch\n",
        "# デフォルトモデルを初期化し、グリッドサーチ時に使用するハイパーパラメータの組み合わせを選択する\n",
        "reg_model = xgb.XGBRegressor(gpu_id=0, tree_method='gpu_hist', predictor='gpu_predictor')\n",
        "grid = {\n",
        "    \"learning_rate\": [0.05, 0.1],\n",
        "    \"max_depth\": [8, 10, 12],\n",
        "    \"min_child_weight\": [1, 3],\n",
        "    \"gamma\":[0.0, 0.1],\n",
        "    \"colsample_bytree\":[0.5, 1]\n",
        "}\n",
        "\n",
        "# Run the GridSearch (around 2 minutes, GPU session reccomended)\n",
        "# グリッドサーチの実行（2分程度、GPUセッション推奨）\n",
        "grid_search = GridSearchCV(\n",
        "            estimator=reg_model,\n",
        "            param_grid=grid,\n",
        "            cv=2,\n",
        "            scoring='r2', verbose=1, n_jobs=-1)\n",
        "grid_search.fit(X_train, y_train)"
      ]
    },
    {
      "cell_type": "code",
      "execution_count": null,
      "metadata": {
        "id": "Ih_Aq4AvniT8"
      },
      "outputs": [],
      "source": [
        "# Print the best parameters found by GridSearch\n",
        "# GridSearchによって見つかった最適なパラメータを表示する\n",
        "print(f\"Best parameters: {grid_search.best_params_}\")"
      ]
    },
    {
      "cell_type": "code",
      "execution_count": null,
      "metadata": {
        "id": "UYZB99vLpqUL"
      },
      "outputs": [],
      "source": [
        "# Print a few of the many runs made by during the GridSearch\n",
        "# GridSearch中に実行された多くのランのうちのいくつかを表示する\n",
        "pd.DataFrame(grid_search.cv_results_).head()"
      ]
    },
    {
      "cell_type": "code",
      "execution_count": null,
      "metadata": {
        "id": "mOeLUfpSq4Ce"
      },
      "outputs": [],
      "source": [
        "# Create optimzed model instance\n",
        "# 最適化されたモデルインスタンスを作成する\n",
        "xgb_model_opt = xgb.XGBRegressor(\n",
        "    **grid_search.best_params_, # Best parameters / 最高のパラメーター\n",
        "    n_estimators = 200, # More complex model so use twice the estimators / より複雑なモデルのため、2倍の推定量を使用\n",
        "    seed=39,\n",
        "    eval_metric=[\"mae\", \"rmse\"],\n",
        "    gpu_id=0,\n",
        "    tree_method = 'gpu_hist',\n",
        "    predictor = 'gpu_predictor'\n",
        ")\n",
        "\n",
        "# Train the model\n",
        "# モデルをトレーニングする\n",
        "eval_set = [(X_train, y_train), (X_test, y_test)]\n",
        "xgb_model_opt.fit(X_train, y_train, verbose=0, eval_set=eval_set)\n",
        "\n",
        "# Make predictions on our test data\n",
        "# テストデータで予測を行う\n",
        "preds_opt = xgb_model_opt.predict(X_test)\n",
        "predictions_opt = [round(value) for value in preds_opt]\n",
        "\n",
        "# R2 score / R2スコア\n",
        "print(\"R^2 :\", r2_score(y_test, predictions))\n",
        "# Adjusted R2 / 調整後R2\n",
        "print(\"Adjusted R^2 :\", 1 - (1-xgb_model.score(X, y))*(len(y)-1)/(len(y)-X.shape[1]-1))\n",
        "# Mean Average Error / 平均平均誤差\n",
        "print(\"MAE :\", mean_absolute_error(y_test,predictions))\n",
        "# Root Mean Squared Error / 平均二乗誤差\n",
        "print(\"RMSE:\", np.sqrt(mean_squared_error(y_test, predictions)))"
      ]
    },
    {
      "cell_type": "markdown",
      "metadata": {
        "id": "uruSLc0r7uPE"
      },
      "source": [
        "# Prediction"
      ]
    },
    {
      "cell_type": "code",
      "execution_count": null,
      "metadata": {
        "id": "tMHsjVsLCC_N"
      },
      "outputs": [],
      "source": [
        "# Make predictions and joined them back to test data\n",
        "# 予測を立て、それをテストデータに結びつける\n",
        "gdf_out = X_test.copy()\n",
        "gdf_out[\"price_predicted\"] = xgb_model_opt.predict(X_test)\n",
        "gdf_out = gdf_out.merge(gdf_load, left_on=\"index\", right_on=\"index\")[\n",
        "    [\"h3\", \"price\", \"price_predicted\"]\n",
        "]\n",
        "gdf_out.reset_index(drop=True, inplace=True)\n",
        "gdf_out"
      ]
    },
    {
      "cell_type": "code",
      "execution_count": null,
      "metadata": {
        "id": "wvC5H99GfkPf"
      },
      "outputs": [],
      "source": [
        "# Export DataFrame to local file (.parquet)\n",
        "# データフレームをローカルファイル（.parquet）にエクスポートする。\n",
        "# gdf_out.to_parquet('london_listings_2023_predicted.parquet')"
      ]
    },
    {
      "cell_type": "code",
      "execution_count": null,
      "metadata": {
        "id": "ulma4lWiGzpv"
      },
      "outputs": [],
      "source": [
        "# Upload result to our Carto account and overwrite same table if already present\n",
        "# 結果をCartoアカウントにアップロードし、同じテーブルが存在する場合は上書きする\n",
        "job_config = bigquery.LoadJobConfig(schema=[], write_disposition=\"WRITE_TRUNCATE\")\n",
        "carto_dw_client.load_table_from_dataframe(\n",
        "    gdf_out,\n",
        "    f\"{cdw_dataset}.shared_us.london_listings_2023_predicted\",\n",
        "    job_config=job_config,\n",
        ").result()"
      ]
    },
    {
      "cell_type": "code",
      "execution_count": null,
      "metadata": {
        "id": "yzMEGaluKCp_"
      },
      "outputs": [],
      "source": [
        "# List tables again and see if out new table is there\n",
        "# テーブルを再度リストアップし、新しいテーブルがあるかどうかを確認する\n",
        "dataset_id = 'shared_us'\n",
        "tables = carto_dw_client.list_tables(dataset_id)\n",
        "\n",
        "print(\"Tables contained in '{}':\".format(dataset_id))\n",
        "for table in tables:\n",
        "    print(\"{}.{}.{}\".format(table.project, table.dataset_id, table.table_id))"
      ]
    },
    {
      "cell_type": "code",
      "execution_count": null,
      "metadata": {
        "id": "LmFBOQfLDII6"
      },
      "outputs": [],
      "source": [
        "# Create final map to visualize our predictions\n",
        "# 予測を視覚化する最終マップを作成する\n",
        "pdkc.register_carto_layer()\n",
        "\n",
        "layer = pdk.Layer(\n",
        "    \"CartoLayer\",\n",
        "    data=f\"SELECT h3, price_predicted, price FROM `{cdw_dataset}.shared_us.london_listings_2023_predicted`\",\n",
        "    type_=pdkc.MapType.QUERY,\n",
        "    connection=pdkc.CartoConnection.CARTO_DW,\n",
        "    credentials=pdkc.get_layer_credentials(carto_auth),\n",
        "\n",
        "    aggregation_exp=pdk.types.String(\"avg(price_predicted) as price_predicted\"),\n",
        "    aggregation_res_level=8,\n",
        "    geo_column=pdk.types.String(\"h3\"),\n",
        "\n",
        "    #get_fill_color='[255, 255, properties.growth * 255]'\n",
        "    get_fill_color=pdkc.styles.color_bins(\"price_predicted\",[0, 100, 200, 300, 400, 500], \"Sunset\"),\n",
        "    opacity=0.5,\n",
        "\n",
        "    get_elevation='properties.price_predicted * properties.price_predicted',\n",
        "    elevation_scale=0.01,\n",
        "\n",
        "    get_elevation='properties.price_predicted',\n",
        "    elevation_scale=10,\n",
        "\n",
        "    # get_line_color=[0, 0, 0, 100],\n",
        "    # line_width_min_pixels=1,\n",
        "\n",
        "    stroked=False,\n",
        "    filled=True,\n",
        "    extruded=True,\n",
        "    wireframe=True,\n",
        "    auto_highlight=True,\n",
        "    pickable=True\n",
        ")\n",
        "\n",
        "tooltip = {\"html\": \"<b>H3 Index:</b> {id} <br /><b>Predicted Price:</b> {price_predicted}\"}\n",
        "\n",
        "view_state = pdk.ViewState(\n",
        "    latitude=51.50071697877869,\n",
        "    longitude=-0.12461158468895285,\n",
        "    zoom=8,\n",
        "    pitch=45,\n",
        "    bearing=0\n",
        "  )\n",
        "\n",
        "pdk.Deck(layer, map_style=pdk.map_styles.DARK, tooltip=tooltip, initial_view_state=view_state).to_html(iframe_height=800)"
      ]
    }
  ],
  "metadata": {
    "colab": {
      "provenance": []
    },
    "kernelspec": {
      "display_name": "Python 3",
      "name": "python3"
    },
    "language_info": {
      "name": "python"
    }
  },
  "nbformat": 4,
  "nbformat_minor": 0
}

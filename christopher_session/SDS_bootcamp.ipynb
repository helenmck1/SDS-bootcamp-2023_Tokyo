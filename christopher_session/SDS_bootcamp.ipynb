{
  "cells": [
    {
      "cell_type": "markdown",
      "metadata": {
        "id": "view-in-github",
        "colab_type": "text"
      },
      "source": [
        "<a href=\"https://colab.research.google.com/github/helenmck1/SDS-bootcamp-2023_Tokyo/blob/main/christopher_session/SDS_bootcamp.ipynb\" target=\"_parent\"><img src=\"https://colab.research.google.com/assets/colab-badge.svg\" alt=\"Open In Colab\"/></a>"
      ]
    },
    {
      "cell_type": "markdown",
      "metadata": {
        "id": "DWpDL2Tr8dIG"
      },
      "source": [
        "# Predicting AirBnB Prices using Carto open data and Machine Learning"
      ]
    },
    {
      "cell_type": "markdown",
      "source": [
        "<img src=\"https://github.com/helenmck1/SDS-bootcamp-2023_Tokyo/blob/main/christopher_session/images/warning.png?raw=1\"  width=\"600\" height=\"250\">"
      ],
      "metadata": {
        "id": "-YukPjzTFESz"
      }
    },
    {
      "cell_type": "markdown",
      "source": [
        "<img src=\"https://github.com/helenmck1/SDS-bootcamp-2023_Tokyo/blob/main/christopher_session/images/gpu_setting.png?raw=1\"  width=\"400\" height=\"350\">"
      ],
      "metadata": {
        "id": "HZH1KZjtF7Wy"
      }
    },
    {
      "cell_type": "markdown",
      "metadata": {
        "id": "Of_w1uJR8dIK"
      },
      "source": [
        "![alt text for screen readers](images/risk_image.png \"Predicted AirBnB prices on the left, actual prices on the right.\")"
      ]
    },
    {
      "cell_type": "markdown",
      "metadata": {
        "id": "hPjSHTOAEVBe"
      },
      "source": [
        "# Libraries / ライブラリー"
      ]
    },
    {
      "cell_type": "code",
      "execution_count": null,
      "metadata": {
        "id": "f4JQZMC_N5CP"
      },
      "outputs": [],
      "source": [
        "# Install packages\n",
        "# パッケージのインストール\n",
        "!pip install pydeck-carto geopandas carto-auth[carto-dw] db_dtypes -q xgboost category-encoders numpy shap matplotlib seaborn"
      ]
    },
    {
      "cell_type": "code",
      "execution_count": null,
      "metadata": {
        "id": "THxXUsnoOTwf"
      },
      "outputs": [],
      "source": [
        "# Carto / GoogleBigQuery\n",
        "import pydeck as pdk\n",
        "import pydeck_carto as pdkc\n",
        "from carto_auth import CartoAuth\n",
        "from google.cloud import bigquery\n",
        "\n",
        "# Plotting / プロット\n",
        "import matplotlib.pyplot as plt\n",
        "import seaborn as sns\n",
        "import shap\n",
        "\n",
        "# Analysis / 分析\n",
        "import math\n",
        "import numpy as np\n",
        "import pandas as pd\n",
        "import geopandas as gpd\n",
        "\n",
        "# Machine Learning / 機械学習\n",
        "import xgboost as xgb\n",
        "import category_encoders as ce\n",
        "from sklearn.metrics import (\n",
        "    accuracy_score,\n",
        "    mean_absolute_error,\n",
        "    mean_squared_error,\n",
        "    r2_score,\n",
        ")\n",
        "from sklearn.model_selection import (\n",
        "    GridSearchCV,\n",
        "    KFold,\n",
        "    LeaveOneOut,\n",
        "    cross_val_score,\n",
        "    train_test_split,\n",
        ")"
      ]
    },
    {
      "cell_type": "markdown",
      "metadata": {
        "id": "yKfsQfR0Eaff"
      },
      "source": [
        "# Authentication / 認証"
      ]
    },
    {
      "cell_type": "code",
      "execution_count": null,
      "metadata": {
        "id": "PaCA9KL8PuC_"
      },
      "outputs": [],
      "source": [
        "# Authenticate Carto\n",
        "# Cartoを認証する\n",
        "carto_auth = CartoAuth.from_oauth()\n",
        "carto_dw_client = carto_auth.get_carto_dw_client()"
      ]
    },
    {
      "cell_type": "code",
      "execution_count": null,
      "metadata": {
        "id": "pEi8Dww68dIP"
      },
      "outputs": [],
      "source": [
        "# Determine the user's dataset IDs\n",
        "# ユーザーのデータセットIDを決定する\n",
        "dataset_id = 'shared_us'\n",
        "tables = carto_dw_client.list_tables(dataset_id)\n",
        "carto_user_id = list(tables)[0].project.split('-')[-1]\n",
        "\n",
        "cdw_dataset = f\"carto-dw-ac-{carto_user_id}\"\n",
        "cdo_dataset =  f\"carto-data.ac_{carto_user_id}\"\n",
        "\n",
        "print(f\"Carto Data Warehouse Dataset: {cdw_dataset}\")\n",
        "print(f\"Carto Data Warehouse Dataset: {cdo_dataset}\")"
      ]
    },
    {
      "cell_type": "markdown",
      "metadata": {
        "id": "tkPA9Q16yAU4"
      },
      "source": [
        "# Accessing Data / データへのアクセス"
      ]
    },
    {
      "cell_type": "code",
      "execution_count": null,
      "metadata": {
        "id": "R8l7xuWqyEF9"
      },
      "outputs": [],
      "source": [
        "# List datasets in Carto Data Warehouse\n",
        "# Cartoデータウェアハウスのデータセットの表示\n",
        "datasets = list(carto_dw_client.list_datasets())\n",
        "\n",
        "if datasets:\n",
        "    print(\"Datasets in CARTO Data Warehouse:\")\n",
        "    for dataset in datasets:\n",
        "        print(\"\\t{}\".format(dataset.dataset_id))\n",
        "else:\n",
        "    print(\"CARTO Data Warehouse project does not contain any datasets.\")"
      ]
    },
    {
      "cell_type": "code",
      "execution_count": null,
      "metadata": {
        "id": "acZl62LiyMNR"
      },
      "outputs": [],
      "source": [
        "# List tables in chosen dataset\n",
        "# 選択したデータセットのテーブルをリストアップする\n",
        "dataset_id = 'shared_us'\n",
        "tables = carto_dw_client.list_tables(dataset_id)  # Make an API request.\n",
        "\n",
        "print(\"Tables contained in '{}':\".format(dataset_id))\n",
        "for table in tables:\n",
        "    print(\"{}.{}.{}\".format(table.project, table.dataset_id, table.table_id))"
      ]
    },
    {
      "cell_type": "code",
      "execution_count": null,
      "metadata": {
        "id": "Fy-5A-Hn2jTg"
      },
      "outputs": [],
      "source": [
        "# Query the London Listings table and visualize as GeoDataFrame\n",
        "# London Listingsテーブルを照会し、GeoDataFrameとして可視化する。\n",
        "table = carto_dw_client.get_table(f\"{cdw_dataset}.shared_us.london_listings_2023_joined\")\n",
        "gdf = carto_dw_client.list_rows(table).to_geodataframe(\n",
        "    geography_column=\"geom\", create_bqstorage_client=False\n",
        ")\n",
        "display(gdf.head())"
      ]
    },
    {
      "cell_type": "markdown",
      "metadata": {
        "id": "hYhjxqYfJj2b"
      },
      "source": [
        "# Visualizing Data / データの可視化"
      ]
    },
    {
      "cell_type": "markdown",
      "metadata": {
        "id": "zGK8zI8JTRKS"
      },
      "source": [
        "## CARTO Data Warehouse / CARTOデータウェアハウス"
      ]
    },
    {
      "cell_type": "code",
      "execution_count": null,
      "metadata": {
        "id": "VWSutEHb3Cul"
      },
      "outputs": [],
      "source": [
        "# Register CartoLayer in pydeck\n",
        "# pydeckにCartoLayerを登録する。\n",
        "pdkc.register_carto_layer()\n",
        "\n",
        "# Render first CartoLayer CartoLayer\n",
        "# 最初の CartoLayer CartoLayer をレンダリングする。\n",
        "layer = pdk.Layer(\n",
        "    \"CartoLayer\",\n",
        "    data=f\"SELECT geom, price FROM `{cdw_dataset}.shared_us.london_listings_2023_joined`\",\n",
        "    type_=pdkc.MapType.QUERY,\n",
        "    connection=pdkc.CartoConnection.CARTO_DW,\n",
        "    credentials=pdkc.get_layer_credentials(carto_auth),\n",
        "    point_radius_min_pixels=2.5,\n",
        "    get_fill_color=pdkc.styles.color_bins(\n",
        "        \"price\", [0, 100, 200, 300, 400, 500], \"PinkYl\"\n",
        "    ),\n",
        "    get_line_color=[0, 0, 0, 100],\n",
        ")\n",
        "\n",
        "# Set initial viewing location/zoom/angle\n",
        "# 初期表示位置/ズーム/アングルを設定する\n",
        "view_state = pdk.ViewState(\n",
        "    latitude=51.50071697877869,\n",
        "    longitude=-0.12461158468895285,\n",
        "    zoom=8\n",
        ")\n",
        "\n",
        "# Initialize map\n",
        "# マップの初期化\n",
        "pdk.Deck(layer, map_style=pdk.map_styles.ROAD, initial_view_state=view_state).to_html(\n",
        "    iframe_height=800\n",
        ")"
      ]
    },
    {
      "cell_type": "markdown",
      "metadata": {
        "id": "fZqEmFSn3QF2"
      },
      "source": [
        "# Data preparation / データ準備"
      ]
    },
    {
      "cell_type": "markdown",
      "metadata": {
        "id": "SJPkDQBB36Av"
      },
      "source": [
        "## Data cleaning / データクリーニング"
      ]
    },
    {
      "cell_type": "code",
      "execution_count": null,
      "metadata": {
        "id": "orGBc8gu8dIS"
      },
      "outputs": [],
      "source": [
        "# Load joined Carto Workflow table into a DataFrame\n",
        "# 結合されたCarto WorkflowテーブルをDataFrameにロードする。\n",
        "gdf_load = gdf.copy()\n",
        "\n",
        "# Create an index on the table\n",
        "# テーブルにインデックスを作成する\n",
        "idx = \"index\"\n",
        "gdf_load = gdf_load.reset_index()\n",
        "gdf_load = gdf_load.set_index(idx)\n",
        "gdf_load\n",
        "\n",
        "# Drop geometry columns\n",
        "# ジオメトリの列を削除する\n",
        "gdf_clean = gdf_load.drop(['h3', 'geom'], axis=1)\n",
        "\n",
        "# Rename columns created by join in workflow\n",
        "# ワークフローで結合によって作成された列の名前を変更する\n",
        "gdf_clean.rename(columns={\"population_joined\": \"population\",\n",
        "                          \"leisure_joined\": \"lesiure\",\n",
        "                          \"tourism_joined\": \"tourism\",\n",
        "                          \"transportation_joined\": \"transportation\",\n",
        "                          \"urbanity_joined\": \"urbanity\",\n",
        "                          \"female_joined\": \"female\",\n",
        "                          \"male_joined\": \"male\",\n",
        "                          \"elevation_joined\": \"elevation\"}, inplace=True)\n",
        "gdf_clean.head()"
      ]
    },
    {
      "cell_type": "code",
      "execution_count": null,
      "metadata": {
        "id": "vsljvoea8dIS"
      },
      "outputs": [],
      "source": [
        "# Check data types for each column\n",
        "# 各列のデータ型をチェックする\n",
        "gdf_clean.dtypes"
      ]
    },
    {
      "cell_type": "code",
      "execution_count": null,
      "metadata": {
        "id": "0Tjwxcr78dIS"
      },
      "outputs": [],
      "source": [
        "# Force data types for our variables\n",
        "# 変数のデータ型を強制する\n",
        "for col in [\n",
        "    'price',\n",
        "    'minimum_nights',\n",
        "    'number_of_reviews',\n",
        "    'reviews_per_month',\n",
        "    'availability_365',\n",
        "    'number_of_reviews_ltm',\n",
        "    'population',\n",
        "    'female',\n",
        "    'male',\n",
        "    'lesiure',\n",
        "    'tourism',\n",
        "    'transportation',\n",
        "    'elevation',\n",
        "    'mobility'\n",
        "]:\n",
        "  gdf_clean[col] = gdf_clean[col].astype('float64')\n",
        "\n",
        "gdf_clean.head()"
      ]
    },
    {
      "cell_type": "markdown",
      "metadata": {
        "id": "1-Egxwra8dIT"
      },
      "source": [
        "## Null values / ヌル値"
      ]
    },
    {
      "cell_type": "code",
      "execution_count": null,
      "metadata": {
        "id": "ZjvIw4u68dIT"
      },
      "outputs": [],
      "source": [
        "gdf_selected = gdf_clean.copy()\n",
        "# Display null values\n",
        "# ヌル値を表示する\n",
        "display(gdf_selected.isnull().sum())\n",
        "\n",
        "# Fill remaining null values with 0\n",
        "# 残りのヌル値を0で埋める\n",
        "gdf_selected = gdf_selected.fillna(0)\n",
        "display(gdf_selected.isnull().sum())"
      ]
    },
    {
      "cell_type": "markdown",
      "metadata": {
        "id": "B2tpC3hV8dIT"
      },
      "source": [
        "## Outliers / アウトライアーズ"
      ]
    },
    {
      "cell_type": "code",
      "execution_count": null,
      "metadata": {
        "id": "mEqN7coq8dIT"
      },
      "outputs": [],
      "source": [
        "# Use df.describe to check percentiles for each numerical colummn\n",
        "# df.describeを使って各数値列のパーセンタイルをチェックする\n",
        "gdf_selected.describe(percentiles=[.25, .5, .75, .95, .99])"
      ]
    },
    {
      "cell_type": "code",
      "execution_count": null,
      "metadata": {
        "id": "5g1-7ozv8dIT"
      },
      "outputs": [],
      "source": [
        "# Remove data from selected columns not within the 99th percentile\n",
        "# 選択された列から99パーセンタイル以内のデータを削除する。\n",
        "gdf_selected = gdf_selected[gdf_selected['price'] >= 1]\n",
        "gdf_selected = gdf_selected[gdf_selected['price'] <= 1570.000000]\n",
        "gdf_selected = gdf_selected[gdf_selected['minimum_nights'] <= 90]\n",
        "gdf_selected = gdf_selected[gdf_selected['number_of_reviews'] <= 209.000000]\n",
        "gdf_selected = gdf_selected[gdf_selected['number_of_reviews_ltm'] <= 61.0]\n",
        "gdf_selected"
      ]
    },
    {
      "cell_type": "markdown",
      "metadata": {
        "id": "qdVv8yJc8dIT"
      },
      "source": [
        "## Choosing Variables / 変数の選択"
      ]
    },
    {
      "cell_type": "markdown",
      "metadata": {
        "id": "Ce_HNyv-8dIT"
      },
      "source": [
        "**CATEGORICAL VARIABLES** / **カテゴリー変数** \\\n",
        "neighbourhood　エリア区分\\\n",
        "room_type　部屋のタイプ\\\n",
        "urbanity　都市の度合\\\n",
        "work_zone　職場ゾーン\\\n",
        "work_zone_specific　働く人のタイプによるエリア分け\\\n",
        "\\\n",
        "**NUMERICAL VARIABLES** / **数値変数** \\\n",
        "minimum_nights　最低宿泊日数\\\n",
        "number_of_reviews　レビュー数\\\n",
        "availability_365　年間稼働率\\\n",
        "number_of_reviews_ltm　直近10ヶ月のレビュー数\\\n",
        "reviews_per_month　月次レビュー数\\\n",
        "transportation　交通関連POIの数\\\n",
        "tourism　観光関連POI数\\\n",
        "lesiure　レジャー関連POIの数\\\n",
        "population　人口\\\n",
        "male　男性人口\\\n",
        "female　女性人口\\\n",
        "mobility　世帯の変動\\\n",
        "\\\n",
        "**TARGET VARIABLE** / **目的変数**\\\n",
        "price　価格"
      ]
    },
    {
      "cell_type": "code",
      "execution_count": null,
      "metadata": {
        "id": "rkDOQ68p8dIT"
      },
      "outputs": [],
      "source": [
        "\"\"\" カテゴリー変数\n",
        "neighbourhood\n",
        "room_type\n",
        "urbanity\n",
        "work_zone\n",
        "work_zone_specific\n",
        "\"\"\"\n",
        "\n",
        "\"\"\"数値変数\n",
        "minimum_nights\n",
        "number_of_reviews\n",
        "availability_365\n",
        "number_of_reviews_ltm\n",
        "reviews_per_month\n",
        "transportation\n",
        "tourism\n",
        "lesiure\n",
        "population\n",
        "male\n",
        "female\n",
        "mobility\n",
        "\"\"\""
      ]
    },
    {
      "cell_type": "code",
      "execution_count": null,
      "metadata": {
        "id": "orrJWUGq8dIU"
      },
      "outputs": [],
      "source": [
        "categorical_variables = ['neighbourhood','urbanity']\n",
        "numerical_variables = ['']\n",
        "target = \"price\""
      ]
    },
    {
      "cell_type": "code",
      "execution_count": null,
      "metadata": {
        "id": "MACWUHnuVV0R"
      },
      "outputs": [],
      "source": [
        "# Declare numerical, categorical and target variables\n",
        "# 数値変数、カテゴリー変数、ターゲット変数の宣言\n",
        "categorical_variables = [\n",
        "    \"neighbourhood\",\n",
        "    \"room_type\",\n",
        "    \"urbanity\",\n",
        "    \"work_zone_specific\"\n",
        "]\n",
        "\n",
        "numerical_variables = [\n",
        "    \"minimum_nights\",\n",
        "    \"number_of_reviews\",\n",
        "    \"reviews_per_month\",\n",
        "    \"availability_365\",\n",
        "    \"population\",\n",
        "    \"lesiure\",\n",
        "    \"tourism\",\n",
        "    \"transportation\",\n",
        "    \"mobility\",\n",
        "]\n",
        "\n",
        "target = \"price\""
      ]
    },
    {
      "cell_type": "markdown",
      "metadata": {
        "id": "H8Xj5iEM3PUN"
      },
      "source": [
        "## Feature Analysis / 特徴分析"
      ]
    },
    {
      "cell_type": "code",
      "execution_count": null,
      "metadata": {
        "id": "6EAKFb6bSzyh"
      },
      "outputs": [],
      "source": [
        "# Count plot for target variable\n",
        "# ターゲット変数のカウントプロット\n",
        "sns.set(style='whitegrid', palette=\"deep\", font_scale=1.1, rc={\"figure.figsize\": [10, 10]})\n",
        "sns.displot(gdf_selected['price'], kde=False, bins=20,).set(xlabel='Price', ylabel='Count')"
      ]
    },
    {
      "cell_type": "code",
      "execution_count": null,
      "metadata": {
        "id": "lnOqX16IUjun"
      },
      "outputs": [],
      "source": [
        "# Count plot for target numerical variables\n",
        "# 数値変数のカウントプロット\n",
        "num_len = len(numerical_variables)\n",
        "cols = 5\n",
        "row_fun = lambda len, cols: math.floor(len / cols) + 1 if len % cols != 0 else math.floor(len / cols)\n",
        "rows = row_fun(num_len, cols)\n",
        "gdf_selected[numerical_variables].hist(bins=15, figsize=(15, 6), layout=(rows, 5))"
      ]
    },
    {
      "cell_type": "code",
      "execution_count": null,
      "metadata": {
        "id": "eqGCvkZ3Zd0g"
      },
      "outputs": [],
      "source": [
        "# Count plot for target categorical variables\n",
        "# カテゴリー変数のカウントプロット\n",
        "\n",
        "num_len = len(categorical_variables)\n",
        "cols = 2\n",
        "row_fun = lambda len, cols: math.floor(len / cols) + 1 if len % cols != 0 else math.floor(len / cols)\n",
        "rows = row_fun(num_len, cols)\n",
        "\n",
        "fig, axes = plt.subplots(rows, cols, figsize=(15, 15))\n",
        "axes = axes.ravel()\n",
        "for col, ax in zip(categorical_variables, axes):\n",
        "    sns.histplot(gdf_selected[col], ax=ax).set_xticklabels(\n",
        "        ax.get_xticklabels(), rotation=90\n",
        "    )\n",
        "\n",
        "fig.tight_layout()\n",
        "plt.show()"
      ]
    },
    {
      "cell_type": "markdown",
      "metadata": {
        "id": "b83BwLRkxtnS"
      },
      "source": [
        "## Encoding / エンコーディング"
      ]
    },
    {
      "cell_type": "markdown",
      "metadata": {
        "id": "vmP3paP_8dIU"
      },
      "source": [
        "![alt text for screen readers](images/encoding1.png \"One Hot Encoding.\")"
      ]
    },
    {
      "cell_type": "markdown",
      "metadata": {
        "id": "nWXPp7ez8dIV"
      },
      "source": [
        "![alt text for screen readers](images/encoding2.png \"Label Encoding.\")"
      ]
    },
    {
      "cell_type": "code",
      "execution_count": null,
      "metadata": {
        "id": "K_wgqlFgE7fV"
      },
      "outputs": [],
      "source": [
        "gdf_encoded = gdf_selected[categorical_variables + numerical_variables + [target]].copy()\n",
        "# Display categorical features and their respective cardinality\n",
        "# カテゴリカルな特徴とそれぞれのカーディナリティを表示します\n",
        "\n",
        "high_card = []\n",
        "low_card = []\n",
        "for cat in categorical_variables:\n",
        "    if gdf_encoded[cat].nunique() >= 15:\n",
        "       high_card.append(cat)\n",
        "    else:\n",
        "        low_card.append(cat)\n",
        "\n",
        "# Nominal variable and cardinality < 15, use OneHot Encoding\n",
        "# 名目変数でカーディナリティが15未満の場合、OneHotエンコーディングを使用する。\n",
        "gdf_encoded = pd.get_dummies(gdf_encoded, columns=low_card, dtype=int)\n",
        "\n",
        "# Nominal variable and cardinality >= 15, use Target Encoding\n",
        "# 名目変数でカーディナリティが15を超える場合は、ターゲットエンコーディングを使用する。\n",
        "encoder = ce.TargetEncoder()\n",
        "for hc in high_card:\n",
        "    gdf_encoded[hc] = encoder.fit_transform(gdf_encoded[hc], gdf_encoded[target])\n",
        "gdf_encoded"
      ]
    },
    {
      "cell_type": "code",
      "execution_count": null,
      "metadata": {
        "id": "7waF2SxX8iWH"
      },
      "outputs": [],
      "source": [
        "# Split dataset into dependent and independent variables (X and y)\n",
        "# データセットを従属変数と独立変数 (X と y) に分割する\n",
        "X = gdf_encoded.drop(\"price\", axis=1).copy()\n",
        "y = gdf_encoded[\"price\"].copy()\n",
        "\n",
        "# Split X and y data into train and test data 80/20\n",
        "# XとYのデータを訓練データとテストデータに分ける 80/20\n",
        "X_train, X_test, y_train, y_test = train_test_split(X, y, random_state=14, test_size=.2)"
      ]
    },
    {
      "cell_type": "markdown",
      "metadata": {
        "id": "U6Z_eNdS3XTT"
      },
      "source": [
        "# Models / モデル"
      ]
    },
    {
      "cell_type": "markdown",
      "metadata": {
        "id": "8mKTpSnJJpr0"
      },
      "source": [
        "## XGBOOST"
      ]
    },
    {
      "cell_type": "markdown",
      "metadata": {
        "id": "QVF5NTJD8dIb"
      },
      "source": [
        "### Default Model / デフォルトモデル"
      ]
    },
    {
      "cell_type": "code",
      "execution_count": null,
      "metadata": {
        "id": "SWiZOdhoxmGk"
      },
      "outputs": [],
      "source": [
        "# Create model instance\n",
        "# モデルのインスタンスを作成する\n",
        "xgb_model = xgb.XGBRegressor(\n",
        "    seed=39,\n",
        "    eval_metric=[\"mae\", \"rmse\"]\n",
        ")"
      ]
    },
    {
      "cell_type": "markdown",
      "metadata": {
        "id": "7JRLTh_L8dIc"
      },
      "source": [
        "### Optimized Model / 最適化モデル"
      ]
    },
    {
      "cell_type": "code",
      "execution_count": null,
      "metadata": {
        "id": "8MFrzyuc8dIc"
      },
      "outputs": [],
      "source": [
        "# Create model instance\n",
        "# モデルのインスタンスを作成する\n",
        "optimized_parameters = {\n",
        "    'n_estimators': 100,\n",
        "    'colsample_bytree': 0.5,\n",
        "    'gamma': 0.1,\n",
        "    'learning_rate': 0.05,\n",
        "    'max_depth': 12,\n",
        "    'min_child_weight': 1\n",
        "}\n",
        "xgb_model = xgb.XGBRegressor(\n",
        "    **optimized_parameters,\n",
        "    seed=39,\n",
        "    eval_metric=[\"mae\", \"rmse\"],\n",
        "    tree_method='gpu_hist',\n",
        "    device=\"cuda\",\n",
        "    predictor = 'gpu_predictor'\n",
        ")"
      ]
    },
    {
      "cell_type": "code",
      "execution_count": null,
      "metadata": {
        "id": "qxSJQBnQS35f"
      },
      "outputs": [],
      "source": [
        "# Train the model\n",
        "# モデルをトレーニングする\n",
        "eval_set = [(X_train, y_train), (X_test, y_test)]\n",
        "xgb_model.fit(X_train, y_train, verbose=0, eval_set=eval_set)"
      ]
    },
    {
      "cell_type": "code",
      "execution_count": null,
      "metadata": {
        "id": "-hDxfQlPQovB"
      },
      "outputs": [],
      "source": [
        "# Make predictions on our test data\n",
        "# テストデータで予測を行う\n",
        "preds = xgb_model.predict(X_test)\n",
        "predictions = [round(value) for value in preds]\n",
        "print(\"Predicted prices:\", predictions[0:5])\n",
        "print(\"Actual prices:   \", [round(value) for value in list(y_test)][0:5])"
      ]
    },
    {
      "cell_type": "code",
      "execution_count": null,
      "metadata": {
        "id": "H7c3OkX8BvsD"
      },
      "outputs": [],
      "source": [
        "# Evaluate model\n",
        "# モデルを評価する\n",
        "\n",
        "# Higher is better\n",
        "# R2 score / R2スコア\n",
        "print(\"R^2 :\", r2_score(y_test, predictions))\n",
        "# Adjusted R2 / 調整後R2\n",
        "print(\"Adjusted R^2 :\", 1 - (1-xgb_model.score(X, y))*(len(y)-1)/(len(y)-X.shape[1]-1))\n",
        "print()\n",
        "# Less is better\n",
        "# Mean Average Error / 平均平均誤差\n",
        "print(\"MAE :\", mean_absolute_error(y_test,predictions))\n",
        "# Root Mean Squared Error / 平均二乗誤差\n",
        "print(\"RMSE:\", np.sqrt(mean_squared_error(y_test, predictions)))"
      ]
    },
    {
      "cell_type": "markdown",
      "metadata": {
        "id": "RbT9XPJJrj5v"
      },
      "source": [
        "## Validation & Plotting / バリデーションとプロッティング"
      ]
    },
    {
      "cell_type": "code",
      "execution_count": null,
      "metadata": {
        "id": "atV8bteccTZ-"
      },
      "outputs": [],
      "source": [
        "# Calculate the shap values (GPU reccomended)\n",
        "# シャップ値を計算する（GPU推奨）\n",
        "explainer = shap.TreeExplainer(xgb_model)\n",
        "shap_values = explainer.shap_values(X_test)\n",
        "expected_value = explainer.expected_value\n",
        "\n",
        "if isinstance(expected_value, list):\n",
        "    expected_value = expected_value[1]\n",
        "print(f\"Explainer expected value: {expected_value}\")"
      ]
    },
    {
      "cell_type": "code",
      "execution_count": null,
      "metadata": {
        "id": "l38K6lXv-Lek"
      },
      "outputs": [],
      "source": [
        "# Create summary plot, showing the most impactful features\n",
        "# 最もインパクトのある特徴を示すサマリープロットを作成する\n",
        "shap.summary_plot(shap_values, X_test, plot_type=\"bar\", show=True)"
      ]
    },
    {
      "cell_type": "code",
      "execution_count": null,
      "metadata": {
        "id": "QN5dOY2D5e4i"
      },
      "outputs": [],
      "source": [
        "# Create force plot for the same predictions, a different way of visualizing feature impact\n",
        "# 同じ予測に対してフォースプロットを作成し、特徴の影響を別の方法で視覚化する\n",
        "features = X_test.iloc[0:1]\n",
        "shap_values = explainer.shap_values(features)\n",
        "\n",
        "shap.force_plot(expected_value, shap_values, features, text_rotation=10, matplotlib=True)"
      ]
    },
    {
      "cell_type": "markdown",
      "metadata": {
        "id": "uruSLc0r7uPE"
      },
      "source": [
        "# Prediction / 予想"
      ]
    },
    {
      "cell_type": "code",
      "execution_count": null,
      "metadata": {
        "id": "tMHsjVsLCC_N"
      },
      "outputs": [],
      "source": [
        "# Make predictions and joined them back to test data\n",
        "# 予測を立て、それをテストデータに結びつける\n",
        "gdf_out = X_test.copy()\n",
        "gdf_out[\"price_predicted\"] = xgb_model.predict(X_test)\n",
        "gdf_out = gdf_out.merge(gdf_load, left_on=\"index\", right_on=\"index\")[\n",
        "    [\"h3\", \"price\", \"price_predicted\"]\n",
        "]\n",
        "gdf_out.reset_index(drop=True, inplace=True)\n",
        "\n",
        "# Upload result to our Carto account and overwrite same table if already present\n",
        "# 結果をCartoアカウントにアップロードし、同じテーブルが存在する場合は上書きする\n",
        "job_config = bigquery.LoadJobConfig(schema=[], write_disposition=\"WRITE_TRUNCATE\")\n",
        "carto_dw_client.load_table_from_dataframe(\n",
        "    gdf_out,\n",
        "    f\"{cdw_dataset}.shared_us.london_listings_2023_predicted\",\n",
        "    job_config=job_config,\n",
        ").result()"
      ]
    },
    {
      "cell_type": "code",
      "execution_count": null,
      "metadata": {
        "id": "yzMEGaluKCp_"
      },
      "outputs": [],
      "source": [
        "# List tables again and see if out new table is there\n",
        "# テーブルを再度リストアップし、新しいテーブルがあるかどうかを確認する\n",
        "dataset_id = 'shared_us'\n",
        "tables = carto_dw_client.list_tables(dataset_id)\n",
        "\n",
        "print(\"Tables contained in '{}':\".format(dataset_id))\n",
        "for table in tables:\n",
        "    print(\"{}.{}.{}\".format(table.project, table.dataset_id, table.table_id))"
      ]
    },
    {
      "cell_type": "code",
      "execution_count": null,
      "metadata": {
        "id": "LmFBOQfLDII6"
      },
      "outputs": [],
      "source": [
        "# Create final map to visualize our predictions\n",
        "# 予測を視覚化する最終マップを作成する\n",
        "pdkc.register_carto_layer()\n",
        "\n",
        "layer = pdk.Layer(\n",
        "    \"CartoLayer\",\n",
        "    data=f\"SELECT h3, price_predicted, price FROM `{cdw_dataset}.shared_us.london_listings_2023_predicted`\",\n",
        "    type_=pdkc.MapType.QUERY,\n",
        "    connection=pdkc.CartoConnection.CARTO_DW,\n",
        "    credentials=pdkc.get_layer_credentials(carto_auth),\n",
        "\n",
        "    aggregation_exp=pdk.types.String(\"avg(price_predicted) as price_predicted\"),\n",
        "    aggregation_res_level=8,\n",
        "    geo_column=pdk.types.String(\"h3\"),\n",
        "\n",
        "    get_fill_color=pdkc.styles.color_bins(\"price_predicted\",[0, 100, 200, 300, 400, 500], \"Sunset\"),\n",
        "    opacity=0.4,\n",
        "\n",
        "\n",
        "    get_elevation='properties.price_predicted',\n",
        "    elevation_scale=10,\n",
        "\n",
        "    stroked=False,\n",
        "    filled=True,\n",
        "    extruded=True,\n",
        "    wireframe=True,\n",
        "    auto_highlight=True,\n",
        "    pickable=True\n",
        ")\n",
        "\n",
        "tooltip = {\"html\": \"<b>H3 Index:</b> {id} <br /><b>Predicted Price:</b> {price_predicted}\"}\n",
        "\n",
        "view_state = pdk.ViewState(\n",
        "    latitude=51.50071697877869,\n",
        "    longitude=-0.12461158468895285,\n",
        "    zoom=8,\n",
        "    pitch=45,\n",
        "    bearing=0\n",
        "  )\n",
        "\n",
        "pdk.Deck(layer, map_style=pdk.map_styles.DARK, tooltip=tooltip, initial_view_state=view_state).to_html(iframe_height=800)"
      ]
    },
    {
      "cell_type": "code",
      "execution_count": null,
      "metadata": {
        "id": "sr9DL-3_8dIe"
      },
      "outputs": [],
      "source": [
        "# Create final map to visualize our predictions\n",
        "# 予測を視覚化する最終マップを作成する\n",
        "pdkc.register_carto_layer()\n",
        "\n",
        "layer = pdk.Layer(\n",
        "    \"CartoLayer\",\n",
        "    data=f\"SELECT h3, price FROM `{cdw_dataset}.shared_us.london_listings_2023_predicted`\",\n",
        "    type_=pdkc.MapType.QUERY,\n",
        "    connection=pdkc.CartoConnection.CARTO_DW,\n",
        "    credentials=pdkc.get_layer_credentials(carto_auth),\n",
        "\n",
        "    aggregation_exp=pdk.types.String(\"avg(price) as price\"),\n",
        "    aggregation_res_level=8,\n",
        "    geo_column=pdk.types.String(\"h3\"),\n",
        "\n",
        "    get_fill_color=pdkc.styles.color_bins(\"price\",[0, 100, 200, 300, 400, 500], \"Sunset\"),\n",
        "    opacity=0.4,\n",
        "\n",
        "    get_elevation='properties.price',\n",
        "    elevation_scale=10,\n",
        "\n",
        "    stroked=False,\n",
        "    filled=True,\n",
        "    extruded=True,\n",
        "    wireframe=True,\n",
        "    auto_highlight=True,\n",
        "    pickable=True\n",
        ")\n",
        "\n",
        "tooltip = {\"html\": \"<b>H3 Index:</b> {id} <br /><b>Actual Price:</b> {price}\"}\n",
        "\n",
        "view_state = pdk.ViewState(\n",
        "    latitude=51.50071697877869,\n",
        "    longitude=-0.12461158468895285,\n",
        "    zoom=8,\n",
        "    pitch=45,\n",
        "    bearing=0\n",
        "  )\n",
        "\n",
        "pdk.Deck(layer, map_style=pdk.map_styles.DARK, tooltip=tooltip, initial_view_state=view_state).to_html(iframe_height=800)"
      ]
    }
  ],
  "metadata": {
    "colab": {
      "provenance": [],
      "toc_visible": true,
      "include_colab_link": true
    },
    "kernelspec": {
      "display_name": "Python 3",
      "name": "python3"
    },
    "language_info": {
      "codemirror_mode": {
        "name": "ipython",
        "version": 3
      },
      "file_extension": ".py",
      "mimetype": "text/x-python",
      "name": "python",
      "nbconvert_exporter": "python",
      "pygments_lexer": "ipython3",
      "version": "3.10.13"
    }
  },
  "nbformat": 4,
  "nbformat_minor": 0
}
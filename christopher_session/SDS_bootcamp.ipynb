{
  "nbformat": 4,
  "nbformat_minor": 0,
  "metadata": {
    "colab": {
      "provenance": [],
      "gpuType": "T4",
      "collapsed_sections": [
        "SJPkDQBB36Av"
      ]
    },
    "kernelspec": {
      "name": "python3",
      "display_name": "Python 3"
    },
    "language_info": {
      "name": "python"
    },
    "accelerator": "GPU"
  },
  "cells": [
    {
      "cell_type": "markdown",
      "source": [
        "# Libraries / ライブラリー"
      ],
      "metadata": {
        "id": "hPjSHTOAEVBe"
      }
    },
    {
      "cell_type": "code",
      "source": [
        "# Install packages\n",
        "# パッケージのインストール\n",
        "!pip install pydeck-carto geopandas carto-auth[carto-dw] db_dtypes -q xgboost category-encoders numpy shap matplotlib seaborn"
      ],
      "metadata": {
        "id": "f4JQZMC_N5CP",
        "colab": {
          "base_uri": "https://localhost:8080/"
        },
        "outputId": "85fe9501-eaee-4c23-c8ad-9735588fd2ef"
      },
      "execution_count": 1,
      "outputs": [
        {
          "output_type": "stream",
          "name": "stdout",
          "text": [
            "\u001b[?25l     \u001b[90m━━━━━━━━━━━━━━━━━━━━━━━━━━━━━━━━━━━━━━━━\u001b[0m \u001b[32m0.0/81.8 kB\u001b[0m \u001b[31m?\u001b[0m eta \u001b[36m-:--:--\u001b[0m\r\u001b[2K     \u001b[90m━━━━━━━━━━━━━━━━━━━━━━━━━━━━━━━━━━━━━━━━\u001b[0m \u001b[32m81.8/81.8 kB\u001b[0m \u001b[31m2.8 MB/s\u001b[0m eta \u001b[36m0:00:00\u001b[0m\n",
            "\u001b[2K     \u001b[90m━━━━━━━━━━━━━━━━━━━━━━━━━━━━━━━━━━━━━━\u001b[0m \u001b[32m547.9/547.9 kB\u001b[0m \u001b[31m22.8 MB/s\u001b[0m eta \u001b[36m0:00:00\u001b[0m\n",
            "\u001b[2K     \u001b[90m━━━━━━━━━━━━━━━━━━━━━━━━━━━━━━━━━━━━━━━━\u001b[0m \u001b[32m4.7/4.7 MB\u001b[0m \u001b[31m55.4 MB/s\u001b[0m eta \u001b[36m0:00:00\u001b[0m\n",
            "\u001b[?25h"
          ]
        }
      ]
    },
    {
      "cell_type": "code",
      "source": [
        "# Carto / GoogleBigQuery\n",
        "import pydeck as pdk\n",
        "import pydeck_carto as pdkc\n",
        "from carto_auth import CartoAuth\n",
        "from google.cloud import bigquery\n",
        "\n",
        "# Plotting / プロット\n",
        "import matplotlib.pyplot as plt\n",
        "import seaborn as sns\n",
        "import shap\n",
        "\n",
        "# Analysis / 分析\n",
        "import numpy as np\n",
        "import pandas as pd\n",
        "import geopandas as gpd\n",
        "\n",
        "# Machine Learning / 機械学習\n",
        "import xgboost as xgb\n",
        "import category_encoders as ce\n",
        "from sklearn.linear_model import LinearRegression, LogisticRegression\n",
        "from sklearn.metrics import (\n",
        "    accuracy_score,\n",
        "    mean_absolute_error,\n",
        "    mean_squared_error,\n",
        "    r2_score,\n",
        ")\n",
        "from sklearn.model_selection import (\n",
        "    GridSearchCV,\n",
        "    KFold,\n",
        "    LeaveOneOut,\n",
        "    cross_val_score,\n",
        "    train_test_split,\n",
        ")"
      ],
      "metadata": {
        "id": "THxXUsnoOTwf",
        "colab": {
          "base_uri": "https://localhost:8080/"
        },
        "outputId": "9cc95166-959c-4820-a825-335a7b6c8c19"
      },
      "execution_count": 2,
      "outputs": [
        {
          "output_type": "stream",
          "name": "stderr",
          "text": [
            "Using `tqdm.autonotebook.tqdm` in notebook mode. Use `tqdm.tqdm` instead to force console mode (e.g. in jupyter console)\n"
          ]
        }
      ]
    },
    {
      "cell_type": "markdown",
      "source": [
        "# Authentication / 認証"
      ],
      "metadata": {
        "id": "yKfsQfR0Eaff"
      }
    },
    {
      "cell_type": "code",
      "source": [
        "# Authenticate Carto\n",
        "# Cartoを認証する\n",
        "carto_auth = CartoAuth.from_oauth()\n",
        "carto_dw_client = carto_auth.get_carto_dw_client()"
      ],
      "metadata": {
        "id": "PaCA9KL8PuC_",
        "colab": {
          "base_uri": "https://localhost:8080/"
        },
        "outputId": "cd6e6bed-f833-4cce-c928-24286a10b263"
      },
      "execution_count": 3,
      "outputs": [
        {
          "name": "stdout",
          "output_type": "stream",
          "text": [
            "Go to the following URL:\n",
            "https://auth.carto.com/authorize?client_id=0dxb8HR3ATXCxJiPOJVHsLoHoAtbRX6u&response_type=code&scope=None&audience=carto-cloud-native-api&redirect_uri=https%3A%2F%2Fapp.carto.com%2Fauth%2Ftoken&code_challenge_method=S256&code_challenge=7pP6BOJfHvtZeQlICj3OiLGIN3D78ecvBTxn6mGibrI\n",
            "Enter the Access code: \n",
            "8MSgABBCH69MVEQKBFmlqNRY1-6OWGgDbwvPW7MkOxuUd\n"
          ]
        }
      ]
    },
    {
      "cell_type": "markdown",
      "source": [
        "# Accessing Data / データへのアクセス"
      ],
      "metadata": {
        "id": "tkPA9Q16yAU4"
      }
    },
    {
      "cell_type": "markdown",
      "source": [
        "## CARTO Data Warehouse / CARTOデータウェアハウス"
      ],
      "metadata": {
        "id": "Iy8wMP3mnGhZ"
      }
    },
    {
      "cell_type": "code",
      "source": [
        "# List datasets in Carto Data Warehouse\n",
        "# Cartoデータウェアハウスのデータセットの表示\n",
        "datasets = list(carto_dw_client.list_datasets())\n",
        "\n",
        "if datasets:\n",
        "    print(\"Datasets in CARTO Data Warehouse:\")\n",
        "    for dataset in datasets:\n",
        "        print(\"\\t{}\".format(dataset.dataset_id))\n",
        "else:\n",
        "    print(\"CARTO Data Warehouse project does not contain any datasets.\")"
      ],
      "metadata": {
        "colab": {
          "base_uri": "https://localhost:8080/"
        },
        "id": "R8l7xuWqyEF9",
        "outputId": "7b77b619-0476-4db6-bd51-7c82772067d0"
      },
      "execution_count": 5,
      "outputs": [
        {
          "output_type": "stream",
          "name": "stdout",
          "text": [
            "Datasets in CARTO Data Warehouse:\n",
            "\tprivate_christopher_kyed_3_a1907fcc\n",
            "\tshared\n",
            "\tshared_us\n",
            "\tworkflows_temp_christopher_kyed_3_a1907fcc\n",
            "\tworkflows_temp_christopher_kyed_3_a1907fcc_us\n"
          ]
        }
      ]
    },
    {
      "cell_type": "code",
      "source": [
        "# List tables in chosen dataset\n",
        "# 選択したデータセットのテーブルをリストアップする\n",
        "dataset_id = 'shared_us'\n",
        "tables = carto_dw_client.list_tables(dataset_id)  # Make an API request.\n",
        "\n",
        "print(\"Tables contained in '{}':\".format(dataset_id))\n",
        "for table in tables:\n",
        "    print(\"{}.{}.{}\".format(table.project, table.dataset_id, table.table_id))\n"
      ],
      "metadata": {
        "id": "acZl62LiyMNR"
      },
      "execution_count": null,
      "outputs": []
    },
    {
      "cell_type": "code",
      "source": [
        "# Provide your own Carto Data Observatory ID here.\n",
        "# ここにあなた自身のCarto Data Observatory IDを入力してください。\n",
        "cdw_dataset = \"carto-dw-ac-zn8l36fh\""
      ],
      "metadata": {
        "id": "lnkgIxRgyNtE"
      },
      "execution_count": null,
      "outputs": []
    },
    {
      "cell_type": "code",
      "source": [
        "# Query the London Listings table and visualize as GeoDataFrame\n",
        "# London Listingsテーブルを照会し、GeoDataFrameとして可視化する。\n",
        "table = carto_dw_client.get_table(f\"{cdw_dataset}.shared_us.london_listings_2023\")\n",
        "gdf = carto_dw_client.list_rows(table).to_geodataframe(\n",
        "    geography_column=\"geom\", create_bqstorage_client=False\n",
        ")\n",
        "display(gdf.head())"
      ],
      "metadata": {
        "id": "Fy-5A-Hn2jTg"
      },
      "execution_count": null,
      "outputs": []
    },
    {
      "cell_type": "markdown",
      "source": [
        "## Data Observatory / データ・オブザーバートリー"
      ],
      "metadata": {
        "id": "-3alljIXnCD1"
      }
    },
    {
      "cell_type": "code",
      "source": [
        "# Provide your own Carto Data Observatory ID here.\n",
        "# ここにあなた自身のCarto Data Observatory IDを入力してください。\n",
        "dataobs_dataset = \"carto-data.ac_zn8l36fh\""
      ],
      "metadata": {
        "id": "b8Yn1J262mIn"
      },
      "execution_count": null,
      "outputs": []
    },
    {
      "cell_type": "code",
      "source": [
        "# Get a list of all subscribed tables\n",
        "# 購読されている全テーブルのリストを取得する\n",
        "get_subscriptions_q = f\"\"\"\n",
        "  CALL `carto-un`.carto.DATAOBS_SUBSCRIPTIONS('{dataobs_dataset}',\"dataset_license = 'Public data'\");\n",
        "  \"\"\"\n",
        "\n",
        "subs_df = (\n",
        "    carto_dw_client.query(get_subscriptions_q)\n",
        "    .result()\n",
        "    .to_dataframe(create_bqstorage_client=False)\n",
        ")\n",
        "display(subs_df)"
      ],
      "metadata": {
        "id": "M3x0zgRynDrH"
      },
      "execution_count": null,
      "outputs": []
    },
    {
      "cell_type": "code",
      "source": [
        "# Get the variables of a specific dataset\n",
        "# 特定のデータセットの変数を取得する\n",
        "get_dataset_variables = f\"\"\"\n",
        "CALL `carto-un`.carto.DATAOBS_SUBSCRIPTION_VARIABLES(\n",
        "    \"{dataobs_dataset}\",\n",
        "    \"dataset_slug = 'ons_ltla_a64e5794'\");\n",
        "\"\"\"\n",
        "carto_dw_client.query(get_dataset_variables).result().to_dataframe(create_bqstorage_client=False)"
      ],
      "metadata": {
        "id": "pefB8f-hoVVG"
      },
      "execution_count": null,
      "outputs": []
    },
    {
      "cell_type": "code",
      "source": [
        "# Extract table ID and associated geography table if present\n",
        "# テーブルIDと関連する地理テーブルがあればそれを抽出する。\n",
        "table_id, geography_id = subs_df.query(\"dataset_slug == 'ons_ltla_a64e5794'\")[\n",
        "    [\"dataset_table\", \"associated_geography_table\"]\n",
        "].values.ravel()\n",
        "print(table_id, geography_id)\n"
      ],
      "metadata": {
        "colab": {
          "base_uri": "https://localhost:8080/"
        },
        "id": "In0-XiPFne38",
        "outputId": "bbe997bd-a8a9-4e61-ee73-be1de86a8282"
      },
      "execution_count": 10,
      "outputs": [
        {
          "output_type": "stream",
          "name": "stdout",
          "text": [
            "sub_gbr_ons_geography_gbr_ltla_2021 None\n"
          ]
        }
      ]
    },
    {
      "cell_type": "code",
      "source": [
        "# Query table and visualzie as GeoDataFrame\n",
        "# GeoDataFrameとしてテーブルとビジュアルをクエリーする\n",
        "london_auth_q = f\"\"\"\n",
        "  SELECT *\n",
        "  FROM `{dataobs_dataset}.{dataset_id}`\n",
        "\"\"\"\n",
        "london_auth = (\n",
        "    carto_dw_client.query(london_auth_q)\n",
        "    .result()\n",
        "    .to_dataframe(create_bqstorage_client=False)\n",
        ")\n",
        "london_auth.sample(5)\n"
      ],
      "metadata": {
        "id": "QMUYLjd9nfGb"
      },
      "execution_count": null,
      "outputs": []
    },
    {
      "cell_type": "markdown",
      "source": [
        "# Visualizing Data / データの可視化"
      ],
      "metadata": {
        "id": "hYhjxqYfJj2b"
      }
    },
    {
      "cell_type": "markdown",
      "source": [
        "## CARTO Data Warehouse / CARTOデータウェアハウス"
      ],
      "metadata": {
        "id": "zGK8zI8JTRKS"
      }
    },
    {
      "cell_type": "code",
      "source": [
        "# Register CartoLayer in pydeck\n",
        "# pydeckにCartoLayerを登録する。\n",
        "pdkc.register_carto_layer()\n",
        "\n",
        "# Render first CartoLayer CartoLayer\n",
        "# 最初の CartoLayer CartoLayer をレンダリングする。\n",
        "layer = pdk.Layer(\n",
        "    \"CartoLayer\",\n",
        "    data=f\"SELECT geom, price FROM `{cdw_dataset}.shared_us.london_listings_2023_joined`\",\n",
        "    type_=pdkc.MapType.QUERY,\n",
        "    connection=pdkc.CartoConnection.CARTO_DW,\n",
        "    credentials=pdkc.get_layer_credentials(carto_auth),\n",
        "    point_radius_min_pixels=2.5,\n",
        "    get_fill_color=pdkc.styles.color_bins(\n",
        "        \"price\", [0, 100, 200, 300, 400, 500], \"PinkYl\"\n",
        "    ),\n",
        "    get_line_color=[0, 0, 0, 100],\n",
        ")\n",
        "\n",
        "# Set initial viewing location/zoom/angle\n",
        "# 初期表示位置/ズーム/アングルを設定する\n",
        "view_state = pdk.ViewState(\n",
        "    latitude=51.50071697877869, longitude=-0.12461158468895285, zoom=8\n",
        ")\n",
        "\n",
        "# Initialize map\n",
        "# マップの初期化\n",
        "pdk.Deck(layer, map_style=pdk.map_styles.ROAD, initial_view_state=view_state).to_html(\n",
        "    iframe_height=800\n",
        ")\n"
      ],
      "metadata": {
        "id": "VWSutEHb3Cul"
      },
      "execution_count": null,
      "outputs": []
    },
    {
      "cell_type": "code",
      "source": [
        "# Register CartoLayer in pydeck\n",
        "# pydeckにCartoLayerを登録する。\n",
        "pdkc.register_carto_layer()\n",
        "\n",
        "# Render first CartoLayer CartoLayer\n",
        "# 最初の CartoLayer CartoLayer をレンダリングする。\n",
        "layer = pdk.Layer(\n",
        "    \"CartoLayer\",\n",
        "    data=f\"SELECT h3, price FROM `{cdw_dataset}.shared_us.london_listings_2023_joined`\",\n",
        "    type_=pdkc.MapType.QUERY,\n",
        "    connection=pdkc.CartoConnection.CARTO_DW,\n",
        "    credentials=pdkc.get_layer_credentials(carto_auth),\n",
        "    aggregation_exp=pdk.types.String(\"avg(price) as price\"),\n",
        "    aggregation_res_level=8,\n",
        "    geo_column=pdk.types.String(\"h3\"),\n",
        "    get_fill_color=pdkc.styles.color_bins(\n",
        "        \"price\", [0, 100, 200, 300, 400, 500], \"PurpOr\"\n",
        "    ),\n",
        "    get_line_color=[0, 0, 0, 100],\n",
        "    line_width_min_pixels=1,\n",
        "    opacity=0.4,\n",
        "    stroked=True,\n",
        "    extruded=False,\n",
        "    pickable=True,\n",
        ")\n",
        "\n",
        "# Add tooltip to show values on map\n",
        "# 地図上に値を表示するツールチップを追加する\n",
        "tooltip = {\n",
        "    \"html\": \"H3: <b>{id}</b><br />Price: <b>{price}</b>\",\n",
        "    \"style\": {\n",
        "        \"background\": \"grey\",\n",
        "        \"color\": \"white\",\n",
        "        \"font-family\": '\"Helvetica Neue\", Arial',\n",
        "        \"z-index\": \"10000\",\n",
        "    },\n",
        "}\n",
        "\n",
        "# Set initial viewing location/zoom/angle\n",
        "# 初期表示位置/ズーム/アングルを設定する\n",
        "view_state = pdk.ViewState(\n",
        "    latitude=51.50071697877869, longitude=-0.12461158468895285, zoom=8\n",
        ")\n",
        "\n",
        "# Initialize map\n",
        "# マップの初期化\n",
        "pdk.Deck(\n",
        "    layer, map_style=pdk.map_styles.ROAD, tooltip=tooltip, initial_view_state=view_state\n",
        ").to_html(iframe_height=800)"
      ],
      "metadata": {
        "id": "7T19q1JN7e-1"
      },
      "execution_count": null,
      "outputs": []
    },
    {
      "cell_type": "markdown",
      "source": [
        "## Data Observatory / / データ・オブザーバートリー"
      ],
      "metadata": {
        "id": "bzcibcAdEoWG"
      }
    },
    {
      "cell_type": "code",
      "source": [
        "# Get a list of all subscribed tables again\n",
        "# 再びすべての購読テーブルのリストを取得する\n",
        "get_subscriptions_q = f\"\"\"\n",
        "  CALL `carto-un`.carto.DATAOBS_SUBSCRIPTIONS('{dataobs_dataset}',\"dataset_license = 'Public data'\");\n",
        "  \"\"\"\n",
        "\n",
        "subs_df = carto_dw_client.query(get_subscriptions_q).result().to_dataframe(create_bqstorage_client=False)\n",
        "display(subs_df)"
      ],
      "metadata": {
        "id": "IisHyTQGr2sH"
      },
      "execution_count": null,
      "outputs": []
    },
    {
      "cell_type": "code",
      "source": [
        "# Extract table ID and associated geography table if present\n",
        "# テーブルIDと関連する地理テーブルがあればそれを抽出する。\n",
        "dataset_id, geography_id = subs_df.query(\n",
        "    \"dataset_name == 'Lower Tier Local Authority - United Kingdom (2021)'\"\n",
        ")[[\"dataset_table\", \"associated_geography_table\"]].values.ravel()"
      ],
      "metadata": {
        "id": "sl8tpzPmzfys"
      },
      "execution_count": 15,
      "outputs": []
    },
    {
      "cell_type": "code",
      "source": [
        "# Register CartoLayer in pydeck\n",
        "# pydeckにCartoLayerを登録する。\n",
        "pdkc.register_carto_layer()\n",
        "\n",
        "\n",
        "# Render first CartoLayer CartoLayer\n",
        "# 最初の CartoLayer CartoLayer をレンダリングする。\n",
        "layer = pdk.Layer(\n",
        "    \"CartoLayer\",\n",
        "    data = f\"SELECT * FROM `{dataobs_dataset}.{dataset_id}`\",\n",
        "    geo_column=pdk.types.String(\"geom\"),\n",
        "    type_=pdkc.MapType.QUERY,\n",
        "    connection=pdkc.CartoConnection.CARTO_DW,\n",
        "    credentials=credentials=pdkc.get_layer_credentials(carto_auth),\n",
        "    get_fill_color=[238, 77, 90],\n",
        "    get_line_color=[0, 0, 0, 100],\n",
        "    line_width_min_pixels=1,\n",
        "    opacity=0.2,\n",
        "    pickable=True,\n",
        "    stroked=True,\n",
        "    )\n",
        "\n",
        "# Add tooltip to show values on map\n",
        "# 地図上に値を表示するツールチップを追加する\n",
        "tooltip = {\n",
        "    \"html\": \"Mobility: <b>{y2016}</b>\",\n",
        "    \"style\": {\n",
        "        \"background\": \"grey\",\n",
        "        \"color\": \"white\",\n",
        "        \"font-family\":\n",
        "        '\"Helvetica Neue\", Arial',\n",
        "        \"z-index\": \"10000\"\n",
        "    },\n",
        "}\n",
        "\n",
        "# Set initial viewing location/zoom/angle\n",
        "# 初期表示位置/ズーム/アングルを設定する\n",
        "view_state = pdk.ViewState(\n",
        "    latitude=51.50071697877869,\n",
        "    longitude=-0.12461158468895285,\n",
        "    zoom=5\n",
        ")\n",
        "\n",
        "# Initialize map\n",
        "# マップの初期化\n",
        "pdk.Deck(\n",
        "    layer,\n",
        "    tooltip = tooltip,\n",
        "    initial_view_state=view_state,\n",
        "    map_style=pdk.map_styles.LIGHT_NO_LABELS\n",
        ").to_html(iframe_height = 800)"
      ],
      "metadata": {
        "id": "SuED8ZJROJAk"
      },
      "execution_count": null,
      "outputs": []
    },
    {
      "cell_type": "code",
      "source": [
        "# Extract table ID and associated geography table if present\n",
        "# テーブルIDと関連する地理テーブルがあればそれを抽出する。\n",
        "dataset_id, geography_id = subs_df.query(\"dataset_name == 'Residential Mobility Index - United Kingdom (Lower Super Output Area)'\")[[\"dataset_table\", \"associated_geography_table\"]].values.ravel()"
      ],
      "metadata": {
        "id": "3S32SaOQz-VR"
      },
      "execution_count": 17,
      "outputs": []
    },
    {
      "cell_type": "code",
      "source": [
        "# Register CartoLayer in pydeck\n",
        "# pydeckにCartoLayerを登録する。\n",
        "pdkc.register_carto_layer()\n",
        "\n",
        "# Render first CartoLayer CartoLayer\n",
        "# 最初の CartoLayer CartoLayer をレンダリングする。\n",
        "layer_one = pdk.Layer(\n",
        "    \"CartoLayer\",\n",
        "    data = f\"\"\"SELECT y2016, geom\n",
        "    FROM `{dataobs_dataset}.{dataset_id}` d\n",
        "    JOIN `{dataobs_dataset}.{geography_id}` g\n",
        "    ON d.geoid = g.geoid\"\"\",\n",
        "    geo_column=pdk.types.String(\"geom\"),\n",
        "    type_=pdkc.MapType.QUERY,\n",
        "    connection=pdkc.CartoConnection.CARTO_DW,\n",
        "    credentials=credentials=pdkc.get_layer_credentials(carto_auth),\n",
        "    get_fill_color=pdkc.styles.color_bins(\"y2016\",[0, 0.07, 0.08, 0.09, 0.1, 0.11, 1], \"Emrld\"),\n",
        "    get_line_color=[0, 0, 0, 100],\n",
        "    line_width_min_pixels=1,\n",
        "    opacity=0.5,\n",
        "    pickable=True,\n",
        "    stroked=True,\n",
        "    )\n",
        "\n",
        "# Render first CartoLayer CartoLayer\n",
        "# 2番目のCartoLayer CartoLayer をレンダリングする。\n",
        "layer_two = pdk.Layer(\n",
        "    \"CartoLayer\",\n",
        "    data=f\"SELECT geom, price FROM `{cdw_dataset}.shared_us.london_listings_2023_joined`\",\n",
        "    type_=pdkc.MapType.QUERY,\n",
        "    connection=pdkc.CartoConnection.CARTO_DW,\n",
        "    credentials=pdkc.get_layer_credentials(carto_auth),\n",
        "    point_radius_min_pixels=2.0,\n",
        "    get_fill_color=[255, 100, 100],\n",
        "    get_line_color=[0, 0, 0, 100]\n",
        ")\n",
        "\n",
        "# Add tooltip to show values on map\n",
        "# 地図上に値を表示するツールチップを追加する\n",
        "tooltip = {\n",
        "    \"html\": \"Mobility: <b>{y2016}</b>\",\n",
        "    \"style\": {\n",
        "        \"background\": \"grey\",\n",
        "        \"color\": \"white\",\n",
        "        \"font-family\":\n",
        "        '\"Helvetica Neue\", Arial',\n",
        "        \"z-index\": \"10000\"\n",
        "    },\n",
        "}\n",
        "\n",
        "# Set initial viewing location/zoom/angle\n",
        "# 初期表示位置/ズーム/アングルを設定する\n",
        "view_state = pdk.ViewState(\n",
        "    latitude=51.50071697877869, longitude=-0.12461158468895285, zoom=8\n",
        ")\n",
        "\n",
        "# Initialize map\n",
        "# マップの初期化\n",
        "pdk.Deck(\n",
        "    [layer_one, layer_two],\n",
        "    tooltip = tooltip,\n",
        "    initial_view_state=view_state,\n",
        "    map_style=pdk.map_styles.LIGHT,\n",
        ").to_html(iframe_height = 800)"
      ],
      "metadata": {
        "id": "Q5GTJgFBqn-I"
      },
      "execution_count": null,
      "outputs": []
    },
    {
      "cell_type": "markdown",
      "source": [
        "# Data preparation / データ準備"
      ],
      "metadata": {
        "id": "fZqEmFSn3QF2"
      }
    },
    {
      "cell_type": "markdown",
      "source": [
        "## Data cleaning / データクリーニング"
      ],
      "metadata": {
        "id": "SJPkDQBB36Av"
      }
    },
    {
      "cell_type": "code",
      "source": [
        "# Load joined Carto Workflow table into a DataFrame\n",
        "# 結合されたCarto WorkflowテーブルをDataFrameにロードする。\n",
        "table = carto_dw_client.get_table(\n",
        "    f\"{cdw_dataset}.shared_us.london_listings_2023_joined\"\n",
        ")\n",
        "gdf_load = carto_dw_client.list_rows(table).to_geodataframe(\n",
        "    geography_column=\"geom\", create_bqstorage_client=False\n",
        ")\n",
        "\n",
        "# Create an index on the table\n",
        "# テーブルにインデックスを作成する\n",
        "idx = \"index\"\n",
        "gdf_load = gdf_load.reset_index()\n",
        "gdf_load = gdf_load.set_index(idx)\n",
        "gdf_load\n"
      ],
      "metadata": {
        "id": "Ia_jcFzFqaDB"
      },
      "execution_count": null,
      "outputs": []
    },
    {
      "cell_type": "code",
      "source": [
        "# Drop geometry columns\n",
        "# ジオメトリの列を削除する\n",
        "gdf_clean = gdf_load.drop(['h3_geo', 'h3', 'geom', 'h3_joined'], axis=1)"
      ],
      "metadata": {
        "id": "X5zZYKtH4bC6"
      },
      "execution_count": 20,
      "outputs": []
    },
    {
      "cell_type": "code",
      "source": [
        "# Rename columns created by join in workflow\n",
        "# ワークフローで結合によって作成された列の名前を変更する\n",
        "gdf_clean.rename(columns={\"population_joined\": \"population\",\n",
        "                          \"leisure_joined\": \"lesiure\",\n",
        "                          \"tourism_joined\": \"tourism\",\n",
        "                          \"transportation_joined\": \"transportation\"}, inplace=True)\n",
        "gdf_clean"
      ],
      "metadata": {
        "id": "FFFA0iWPFvVH"
      },
      "execution_count": null,
      "outputs": []
    },
    {
      "cell_type": "code",
      "source": [
        "# Declare numerical, categorical and target variables\n",
        "# 数値変数、カテゴリー変数、ターゲット変数の宣言\n",
        "categorical_variables = [\"neighbourhood\", \"room_type\", \"workplace_zone\"]\n",
        "numerical_variables = [\n",
        "    \"minimum_nights\",\n",
        "    \"number_of_reviews\",\n",
        "    \"reviews_per_month\",\n",
        "    \"availability_365\",\n",
        "    \"population\",\n",
        "    \"lesiure\",\n",
        "    \"tourism\",\n",
        "    \"transportation\",\n",
        "    \"mobility\",\n",
        "]\n",
        "target = \"price\""
      ],
      "metadata": {
        "id": "MACWUHnuVV0R"
      },
      "execution_count": 22,
      "outputs": []
    },
    {
      "cell_type": "code",
      "source": [
        "# Check data types for each column\n",
        "# 各列のデータ型をチェックする\n",
        "gdf_clean.dtypes"
      ],
      "metadata": {
        "id": "_gy5Xvsy4ZQj"
      },
      "execution_count": null,
      "outputs": []
    },
    {
      "cell_type": "code",
      "source": [
        "# Force data types for our variables\n",
        "# 変数のデータ型を強制する\n",
        "for cat in categorical_variables:\n",
        "  gdf_clean[cat] = gdf_clean[cat].astype('object')\n",
        "\n",
        "for num in [numerical_variables + [target]]:\n",
        "  gdf_clean[num] = gdf_clean[num].astype('float64')\n",
        "\n",
        "gdf_clean"
      ],
      "metadata": {
        "id": "n5SF1dKM4ZtW"
      },
      "execution_count": null,
      "outputs": []
    },
    {
      "cell_type": "markdown",
      "source": [
        "## Feature Analysis / 特徴分析"
      ],
      "metadata": {
        "id": "H8Xj5iEM3PUN"
      }
    },
    {
      "cell_type": "code",
      "source": [
        "# Check correlation between input variables\n",
        "# 入力変数間の相関をチェックする\n",
        "correlations = gdf_clean.corr(numeric_only=True)\n",
        "\n",
        "fig, axes = plt.subplots(figsize=(10,10), facecolor='white')\n",
        "sns.heatmap(correlations, vmax=1.0, center=0, fmt='.2f', cmap=\"YlGnBu\",\n",
        "            square=True, linewidths=.5, annot=True, cbar_kws={\"shrink\": .70}, ax=axes)\n",
        "plt.show()"
      ],
      "metadata": {
        "id": "0aB9jB77RiZV"
      },
      "execution_count": null,
      "outputs": []
    },
    {
      "cell_type": "code",
      "source": [
        "# Count plot for target variable\n",
        "# ターゲット変数のカウントプロット\n",
        "sns.set(style='whitegrid', palette=\"deep\", font_scale=1.1, rc={\"figure.figsize\": [10, 10]})\n",
        "sns.displot(gdf_clean['price'], kde=False, bins=20,).set(xlabel='Price', ylabel='Count');"
      ],
      "metadata": {
        "id": "6EAKFb6bSzyh"
      },
      "execution_count": null,
      "outputs": []
    },
    {
      "cell_type": "code",
      "source": [
        "# Count plot for target numerical variables\n",
        "# 数値変数のカウントプロット\n",
        "gdf_clean[numerical_variables].hist(bins=15, figsize=(15, 6), layout=(2, 5));"
      ],
      "metadata": {
        "id": "lnOqX16IUjun"
      },
      "execution_count": null,
      "outputs": []
    },
    {
      "cell_type": "code",
      "source": [
        "# Count plot for target categorical variables\n",
        "# カテゴリー変数のカウントプロット\n",
        "\n",
        "# Select the columns to be plotted\n",
        "# プロットする列を選択する\n",
        "cols = [\"room_type\", \"workplace_zone\"]\n",
        "\n",
        "fig, axes = plt.subplots(1, 2)\n",
        "axes = axes.ravel()\n",
        "\n",
        "for col, ax in zip(cols, axes):\n",
        "    sns.histplot(gdf_clean[col], ax=ax).set_xticklabels(\n",
        "        ax.get_xticklabels(), rotation=90\n",
        "    )\n",
        "\n",
        "fig.tight_layout()\n",
        "plt.show()"
      ],
      "metadata": {
        "id": "eqGCvkZ3Zd0g"
      },
      "execution_count": null,
      "outputs": []
    },
    {
      "cell_type": "markdown",
      "source": [
        "## Null values and Outliers"
      ],
      "metadata": {
        "id": "MRE_BtIsILP_"
      }
    },
    {
      "cell_type": "code",
      "source": [
        "# Use df.describe to check percentiles for each numerical colummn\n",
        "# df.describeを使って各数値列のパーセンタイルをチェックする\n",
        "gdf_selected = gdf_clean.copy()\n",
        "gdf_selected.describe(percentiles=[.25, .5, .75, .95, .99])"
      ],
      "metadata": {
        "id": "dOuajgG-JQWb"
      },
      "execution_count": null,
      "outputs": []
    },
    {
      "cell_type": "code",
      "source": [
        "# Remove data from selected columns not within the 99th percentile\n",
        "# 選択された列から99パーセンタイル以内のデータを削除する。\n",
        "gdf_selected = gdf_selected[gdf_selected['price'] >= 10]\n",
        "gdf_selected = gdf_selected[gdf_selected['price'] <= 1570]\n",
        "gdf_selected = gdf_selected[gdf_selected['minimum_nights'] <= 90]\n",
        "gdf_selected"
      ],
      "metadata": {
        "id": "VHbH5mhRJZLc"
      },
      "execution_count": null,
      "outputs": []
    },
    {
      "cell_type": "code",
      "source": [
        "# Display null values\n",
        "# ヌル値を表示する\n",
        "display(gdf_selected.isnull().sum())"
      ],
      "metadata": {
        "id": "nLk3bBkA6_HY"
      },
      "execution_count": null,
      "outputs": []
    },
    {
      "cell_type": "code",
      "source": [
        "# Fill remaining null values with 0\n",
        "# 残りのヌル値を0で埋める\n",
        "gdf_selected = gdf_selected.fillna(0)\n",
        "display(gdf_selected.isnull().sum())"
      ],
      "metadata": {
        "id": "bVhrjaNu17Nv"
      },
      "execution_count": null,
      "outputs": []
    },
    {
      "cell_type": "markdown",
      "source": [
        "## Encoding"
      ],
      "metadata": {
        "id": "b83BwLRkxtnS"
      }
    },
    {
      "cell_type": "code",
      "source": [
        "gdf_encoded = gdf_selected.copy()"
      ],
      "metadata": {
        "id": "AezE7vq_fBaX"
      },
      "execution_count": 33,
      "outputs": []
    },
    {
      "cell_type": "code",
      "source": [
        "# Display categorical features and their respective cardinality\n",
        "# カテゴリカルな特徴とそれぞれのカーディナリティを表示します\n",
        "display(gdf_encoded[categorical_variables])\n",
        "for cat in categorical_variables:\n",
        "    print(cat, gdf_encoded[cat].nunique())"
      ],
      "metadata": {
        "id": "E6muFd0A7GfE"
      },
      "execution_count": null,
      "outputs": []
    },
    {
      "cell_type": "code",
      "source": [
        "# Nominal variable and cardinality < 15, use OneHot Encoding\n",
        "# 名目変数でカーディナリティが15未満の場合、OneHotエンコーディングを使用する。\n",
        "gdf_encoded = pd.get_dummies(gdf_encoded, columns=[\"room_type\", \"workplace_zone\"])\n",
        "\n",
        "# Nominal variable and cardinality > 15, use Target Encoding\n",
        "# 名目変数でカーディナリティが15を超える場合は、ターゲットエンコーディングを使用する。\n",
        "encoder = ce.TargetEncoder()\n",
        "gdf_encoded[\"neighbourhood\"] = encoder.fit_transform(gdf_encoded['neighbourhood'], gdf_encoded['price'])\n",
        "gdf_encoded"
      ],
      "metadata": {
        "id": "K_wgqlFgE7fV"
      },
      "execution_count": null,
      "outputs": []
    },
    {
      "cell_type": "code",
      "source": [
        "# Check dtypes of final cleaned,selected and encoded table\n",
        "# 最終的にクリーニングされ、選択され、エンコードされたテーブルのd型をチェックする\n",
        "gdf_encoded.dtypes"
      ],
      "metadata": {
        "id": "dJUshyV2FL21"
      },
      "execution_count": null,
      "outputs": []
    },
    {
      "cell_type": "code",
      "source": [
        "# Split dataset into dependent and independent variables (X and y)\n",
        "# データセットを従属変数と独立変数 (X と y) に分割する\n",
        "X = gdf_encoded.drop(\"price\", axis=1).copy()\n",
        "y = gdf_encoded[\"price\"].copy()\n",
        "\n",
        "# Split X and y data into train and test data 80/20\n",
        "# XとYのデータを訓練データとテストデータに分ける 80/20\n",
        "X_train, X_test, y_train, y_test = train_test_split(X, y, random_state=14, test_size=.2)"
      ],
      "metadata": {
        "id": "7waF2SxX8iWH"
      },
      "execution_count": 37,
      "outputs": []
    },
    {
      "cell_type": "code",
      "source": [
        "# Visualize final split data\n",
        "# 最終的な分割データを視覚化する\n",
        "display(X_train)\n",
        "display(y_train)\n",
        "display(X_test)\n",
        "display(y_test)"
      ],
      "metadata": {
        "id": "9ElTUFf1Fr-5"
      },
      "execution_count": null,
      "outputs": []
    },
    {
      "cell_type": "markdown",
      "source": [
        "# Models"
      ],
      "metadata": {
        "id": "U6Z_eNdS3XTT"
      }
    },
    {
      "cell_type": "markdown",
      "source": [
        "## XGBOOST"
      ],
      "metadata": {
        "id": "8mKTpSnJJpr0"
      }
    },
    {
      "cell_type": "code",
      "source": [
        "# Create model instance\n",
        "# モデルのインスタンスを作成する\n",
        "xgb_model = xgb.XGBRegressor(\n",
        "    seed=39,\n",
        "    eval_metric=[\"mae\", \"rmse\"],\n",
        "    gpu_id=0,\n",
        "    tree_method = 'gpu_hist',\n",
        "    predictor = 'gpu_predictor'\n",
        ")"
      ],
      "metadata": {
        "id": "SWiZOdhoxmGk"
      },
      "execution_count": 46,
      "outputs": []
    },
    {
      "cell_type": "code",
      "source": [
        "# Train the model\n",
        "# モデルをトレーニングする\n",
        "eval_set = [(X_train, y_train), (X_test, y_test)]\n",
        "xgb_model.fit(X_train, y_train, verbose=0, eval_set=eval_set)"
      ],
      "metadata": {
        "id": "qxSJQBnQS35f",
        "colab": {
          "base_uri": "https://localhost:8080/",
          "height": 251
        },
        "outputId": "a72b748b-8663-409c-9526-5a216aa5db76"
      },
      "execution_count": 47,
      "outputs": [
        {
          "output_type": "execute_result",
          "data": {
            "text/plain": [
              "XGBRegressor(base_score=None, booster=None, callbacks=None,\n",
              "             colsample_bylevel=None, colsample_bynode=None,\n",
              "             colsample_bytree=None, early_stopping_rounds=None,\n",
              "             enable_categorical=False, eval_metric=['mae', 'rmse'],\n",
              "             feature_types=None, gamma=None, gpu_id=0, grow_policy=None,\n",
              "             importance_type=None, interaction_constraints=None,\n",
              "             learning_rate=None, max_bin=None, max_cat_threshold=None,\n",
              "             max_cat_to_onehot=None, max_delta_step=None, max_depth=None,\n",
              "             max_leaves=None, min_child_weight=None, missing=nan,\n",
              "             monotone_constraints=None, n_estimators=100, n_jobs=None,\n",
              "             num_parallel_tree=None, predictor='gpu_predictor',\n",
              "             random_state=None, ...)"
            ],
            "text/html": [
              "<style>#sk-container-id-1 {color: black;background-color: white;}#sk-container-id-1 pre{padding: 0;}#sk-container-id-1 div.sk-toggleable {background-color: white;}#sk-container-id-1 label.sk-toggleable__label {cursor: pointer;display: block;width: 100%;margin-bottom: 0;padding: 0.3em;box-sizing: border-box;text-align: center;}#sk-container-id-1 label.sk-toggleable__label-arrow:before {content: \"▸\";float: left;margin-right: 0.25em;color: #696969;}#sk-container-id-1 label.sk-toggleable__label-arrow:hover:before {color: black;}#sk-container-id-1 div.sk-estimator:hover label.sk-toggleable__label-arrow:before {color: black;}#sk-container-id-1 div.sk-toggleable__content {max-height: 0;max-width: 0;overflow: hidden;text-align: left;background-color: #f0f8ff;}#sk-container-id-1 div.sk-toggleable__content pre {margin: 0.2em;color: black;border-radius: 0.25em;background-color: #f0f8ff;}#sk-container-id-1 input.sk-toggleable__control:checked~div.sk-toggleable__content {max-height: 200px;max-width: 100%;overflow: auto;}#sk-container-id-1 input.sk-toggleable__control:checked~label.sk-toggleable__label-arrow:before {content: \"▾\";}#sk-container-id-1 div.sk-estimator input.sk-toggleable__control:checked~label.sk-toggleable__label {background-color: #d4ebff;}#sk-container-id-1 div.sk-label input.sk-toggleable__control:checked~label.sk-toggleable__label {background-color: #d4ebff;}#sk-container-id-1 input.sk-hidden--visually {border: 0;clip: rect(1px 1px 1px 1px);clip: rect(1px, 1px, 1px, 1px);height: 1px;margin: -1px;overflow: hidden;padding: 0;position: absolute;width: 1px;}#sk-container-id-1 div.sk-estimator {font-family: monospace;background-color: #f0f8ff;border: 1px dotted black;border-radius: 0.25em;box-sizing: border-box;margin-bottom: 0.5em;}#sk-container-id-1 div.sk-estimator:hover {background-color: #d4ebff;}#sk-container-id-1 div.sk-parallel-item::after {content: \"\";width: 100%;border-bottom: 1px solid gray;flex-grow: 1;}#sk-container-id-1 div.sk-label:hover label.sk-toggleable__label {background-color: #d4ebff;}#sk-container-id-1 div.sk-serial::before {content: \"\";position: absolute;border-left: 1px solid gray;box-sizing: border-box;top: 0;bottom: 0;left: 50%;z-index: 0;}#sk-container-id-1 div.sk-serial {display: flex;flex-direction: column;align-items: center;background-color: white;padding-right: 0.2em;padding-left: 0.2em;position: relative;}#sk-container-id-1 div.sk-item {position: relative;z-index: 1;}#sk-container-id-1 div.sk-parallel {display: flex;align-items: stretch;justify-content: center;background-color: white;position: relative;}#sk-container-id-1 div.sk-item::before, #sk-container-id-1 div.sk-parallel-item::before {content: \"\";position: absolute;border-left: 1px solid gray;box-sizing: border-box;top: 0;bottom: 0;left: 50%;z-index: -1;}#sk-container-id-1 div.sk-parallel-item {display: flex;flex-direction: column;z-index: 1;position: relative;background-color: white;}#sk-container-id-1 div.sk-parallel-item:first-child::after {align-self: flex-end;width: 50%;}#sk-container-id-1 div.sk-parallel-item:last-child::after {align-self: flex-start;width: 50%;}#sk-container-id-1 div.sk-parallel-item:only-child::after {width: 0;}#sk-container-id-1 div.sk-dashed-wrapped {border: 1px dashed gray;margin: 0 0.4em 0.5em 0.4em;box-sizing: border-box;padding-bottom: 0.4em;background-color: white;}#sk-container-id-1 div.sk-label label {font-family: monospace;font-weight: bold;display: inline-block;line-height: 1.2em;}#sk-container-id-1 div.sk-label-container {text-align: center;}#sk-container-id-1 div.sk-container {/* jupyter's `normalize.less` sets `[hidden] { display: none; }` but bootstrap.min.css set `[hidden] { display: none !important; }` so we also need the `!important` here to be able to override the default hidden behavior on the sphinx rendered scikit-learn.org. See: https://github.com/scikit-learn/scikit-learn/issues/21755 */display: inline-block !important;position: relative;}#sk-container-id-1 div.sk-text-repr-fallback {display: none;}</style><div id=\"sk-container-id-1\" class=\"sk-top-container\"><div class=\"sk-text-repr-fallback\"><pre>XGBRegressor(base_score=None, booster=None, callbacks=None,\n",
              "             colsample_bylevel=None, colsample_bynode=None,\n",
              "             colsample_bytree=None, early_stopping_rounds=None,\n",
              "             enable_categorical=False, eval_metric=[&#x27;mae&#x27;, &#x27;rmse&#x27;],\n",
              "             feature_types=None, gamma=None, gpu_id=0, grow_policy=None,\n",
              "             importance_type=None, interaction_constraints=None,\n",
              "             learning_rate=None, max_bin=None, max_cat_threshold=None,\n",
              "             max_cat_to_onehot=None, max_delta_step=None, max_depth=None,\n",
              "             max_leaves=None, min_child_weight=None, missing=nan,\n",
              "             monotone_constraints=None, n_estimators=100, n_jobs=None,\n",
              "             num_parallel_tree=None, predictor=&#x27;gpu_predictor&#x27;,\n",
              "             random_state=None, ...)</pre><b>In a Jupyter environment, please rerun this cell to show the HTML representation or trust the notebook. <br />On GitHub, the HTML representation is unable to render, please try loading this page with nbviewer.org.</b></div><div class=\"sk-container\" hidden><div class=\"sk-item\"><div class=\"sk-estimator sk-toggleable\"><input class=\"sk-toggleable__control sk-hidden--visually\" id=\"sk-estimator-id-1\" type=\"checkbox\" checked><label for=\"sk-estimator-id-1\" class=\"sk-toggleable__label sk-toggleable__label-arrow\">XGBRegressor</label><div class=\"sk-toggleable__content\"><pre>XGBRegressor(base_score=None, booster=None, callbacks=None,\n",
              "             colsample_bylevel=None, colsample_bynode=None,\n",
              "             colsample_bytree=None, early_stopping_rounds=None,\n",
              "             enable_categorical=False, eval_metric=[&#x27;mae&#x27;, &#x27;rmse&#x27;],\n",
              "             feature_types=None, gamma=None, gpu_id=0, grow_policy=None,\n",
              "             importance_type=None, interaction_constraints=None,\n",
              "             learning_rate=None, max_bin=None, max_cat_threshold=None,\n",
              "             max_cat_to_onehot=None, max_delta_step=None, max_depth=None,\n",
              "             max_leaves=None, min_child_weight=None, missing=nan,\n",
              "             monotone_constraints=None, n_estimators=100, n_jobs=None,\n",
              "             num_parallel_tree=None, predictor=&#x27;gpu_predictor&#x27;,\n",
              "             random_state=None, ...)</pre></div></div></div></div></div>"
            ]
          },
          "metadata": {},
          "execution_count": 47
        }
      ]
    },
    {
      "cell_type": "code",
      "source": [
        "# Make predictions on our test data\n",
        "# テストデータで予測を行う\n",
        "preds = xgb_model.predict(X_test)\n",
        "predictions = [round(value) for value in preds]\n",
        "print(predictions[0:10])\n",
        "print([round(value) for value in list(y_test)][0:10])"
      ],
      "metadata": {
        "id": "-hDxfQlPQovB"
      },
      "execution_count": null,
      "outputs": []
    },
    {
      "cell_type": "code",
      "source": [
        "# Evaluate model\n",
        "# モデルを評価する\n",
        "\n",
        "# R2 score / R2スコア\n",
        "print(\"R^2 :\", r2_score(y_test, predictions))\n",
        "# Adjusted R2 / 調整後R2\n",
        "print(\"Adjusted R^2 :\", 1 - (1-xgb_model.score(X, y))*(len(y)-1)/(len(y)-X.shape[1]-1))\n",
        "# Mean Average Error / 平均平均誤差\n",
        "print(\"MAE :\", mean_absolute_error(y_test,predictions))\n",
        "# Root Mean Squared Error / 平均二乗誤差\n",
        "print(\"RMSE:\", np.sqrt(mean_squared_error(y_test, predictions)))"
      ],
      "metadata": {
        "id": "H7c3OkX8BvsD"
      },
      "execution_count": null,
      "outputs": []
    },
    {
      "cell_type": "markdown",
      "source": [
        "## Validation & Plotting"
      ],
      "metadata": {
        "id": "RbT9XPJJrj5v"
      }
    },
    {
      "cell_type": "code",
      "source": [
        "# Calculate the shap values (GPU reccomended)\n",
        "# シャップ値を計算する（GPU推奨）\n",
        "explainer = shap.TreeExplainer(xgb_model)\n",
        "shap_values = explainer.shap_values(X_test)\n",
        "expected_value = explainer.expected_value\n",
        "\n",
        "if isinstance(expected_value, list):\n",
        "    expected_value = expected_value[1]\n",
        "print(f\"Explainer expected value: {expected_value}\")"
      ],
      "metadata": {
        "colab": {
          "base_uri": "https://localhost:8080/"
        },
        "id": "atV8bteccTZ-",
        "outputId": "3fcb87b8-1709-4942-9c8b-43780dd7b09a"
      },
      "execution_count": 51,
      "outputs": [
        {
          "output_type": "stream",
          "name": "stdout",
          "text": [
            "Explainer expected value: 167.58731079101562\n"
          ]
        }
      ]
    },
    {
      "cell_type": "code",
      "source": [
        "# Create summary plot, showing the most impactful features\n",
        "# 最もインパクトのある特徴を示すサマリープロットを作成する\n",
        "shap.summary_plot(shap_values, X_test, plot_type=\"bar\", show=True)"
      ],
      "metadata": {
        "id": "l38K6lXv-Lek"
      },
      "execution_count": null,
      "outputs": []
    },
    {
      "cell_type": "code",
      "source": [
        "# Same plot as above but this time we can see the distribution of values\n",
        "# 上と同じプロットだが、今回は値の分布を見ることができる\n",
        "shap.summary_plot(shap_values, X_test, plot_type='violin', show=True)"
      ],
      "metadata": {
        "id": "192mFADR_Jl_"
      },
      "execution_count": null,
      "outputs": []
    },
    {
      "cell_type": "code",
      "source": [
        "# Create a decision plot for the first 5 predictions, showing how the model arrived at its prediction\n",
        "# 最初の5つの予測についてデシジョンプロットを作成し、モデルがどのように予測に至ったかを示す\n",
        "select = range(5)\n",
        "features = X_test.iloc[select]\n",
        "shap_values = explainer.shap_values(features)\n",
        "\n",
        "shap.decision_plot(expected_value, shap_values, features, show=True)"
      ],
      "metadata": {
        "id": "IvB9pnjycCgN"
      },
      "execution_count": null,
      "outputs": []
    },
    {
      "cell_type": "code",
      "source": [
        "# Same plot as above but with one prediction only so we can see the values at each step\n",
        "# 各ステップでの値を見ることができるように、上記と同じプロットだが、予測は1回のみとする\n",
        "select = range(1)\n",
        "features = X_test.iloc[select]\n",
        "\n",
        "shap_values = explainer.shap_values(features)\n",
        "shap.decision_plot(expected_value, shap_values, features, show=True)"
      ],
      "metadata": {
        "id": "-yU8bbkd4dHG"
      },
      "execution_count": null,
      "outputs": []
    },
    {
      "cell_type": "code",
      "source": [
        "# Create force plot for the same predictions, a different way of visualizing feature impact\n",
        "# 同じ予測に対してフォースプロットを作成し、特徴の影響を別の方法で視覚化する\n",
        "select = range(1)\n",
        "features = X_test.iloc[select]\n",
        "shap_values = explainer.shap_values(features)\n",
        "\n",
        "shap.force_plot(expected_value, shap_values, features, text_rotation=10, matplotlib=True)"
      ],
      "metadata": {
        "id": "QN5dOY2D5e4i"
      },
      "execution_count": null,
      "outputs": []
    },
    {
      "cell_type": "markdown",
      "source": [
        "## Model optimization\n"
      ],
      "metadata": {
        "id": "7QsOjUZU3AhJ"
      }
    },
    {
      "cell_type": "code",
      "source": [
        "# Initialize default model and choose the combination of hyperparameters to use during GridSearch\n",
        "# デフォルトモデルを初期化し、グリッドサーチ時に使用するハイパーパラメータの組み合わせを選択する\n",
        "reg_model = xgb.XGBRegressor(gpu_id=0, tree_method='gpu_hist', predictor='gpu_predictor')\n",
        "grid = {\n",
        "    \"learning_rate\": [0.05, 0.1],\n",
        "    \"max_depth\": [8, 10, 12],\n",
        "    \"min_child_weight\": [1, 3],\n",
        "    \"gamma\":[0.0, 0.1],\n",
        "    \"colsample_bytree\":[0.5, 1]\n",
        "}\n",
        "\n",
        "# Run the GridSearch (around 2 minutes, GPU session reccomended)\n",
        "# グリッドサーチの実行（2分程度、GPUセッション推奨）\n",
        "grid_search = GridSearchCV(\n",
        "            estimator=reg_model,\n",
        "            param_grid=grid,\n",
        "            cv=2,\n",
        "            scoring='r2', verbose=1, n_jobs=-1)\n",
        "grid_search.fit(X_train, y_train)"
      ],
      "metadata": {
        "id": "WrBG_1s7JyW-"
      },
      "execution_count": null,
      "outputs": []
    },
    {
      "cell_type": "code",
      "source": [
        "# Print the best parameters found by GridSearch\n",
        "# GridSearchによって見つかった最適なパラメータを表示する\n",
        "print(f\"Best parameters: {grid_search.best_params_}\")"
      ],
      "metadata": {
        "id": "Ih_Aq4AvniT8"
      },
      "execution_count": null,
      "outputs": []
    },
    {
      "cell_type": "code",
      "source": [
        "# Print a few of the many runs made by during the GridSearch\n",
        "# GridSearch中に実行された多くのランのうちのいくつかを表示する\n",
        "pd.DataFrame(grid_search.cv_results_).head()"
      ],
      "metadata": {
        "id": "UYZB99vLpqUL"
      },
      "execution_count": null,
      "outputs": []
    },
    {
      "cell_type": "code",
      "source": [
        "# Create optimzed model instance\n",
        "# 最適化されたモデルインスタンスを作成する\n",
        "xgb_model_opt = xgb.XGBRegressor(\n",
        "    **grid_search.best_params_, # Best parameters / 最高のパラメーター\n",
        "    n_estimators = 200, # More complex model so use twice the estimators / より複雑なモデルのため、2倍の推定量を使用\n",
        "    seed=39,\n",
        "    eval_metric=[\"mae\", \"rmse\"],\n",
        "    gpu_id=0,\n",
        "    tree_method = 'gpu_hist',\n",
        "    predictor = 'gpu_predictor'\n",
        ")\n",
        "\n",
        "# Train the model\n",
        "# モデルをトレーニングする\n",
        "eval_set = [(X_train, y_train), (X_test, y_test)]\n",
        "xgb_model_opt.fit(X_train, y_train, verbose=0, eval_set=eval_set)\n",
        "\n",
        "# Make predictions on our test data\n",
        "# テストデータで予測を行う\n",
        "preds_opt = xgb_model_opt.predict(X_test)\n",
        "predictions_opt = [round(value) for value in preds_opt]\n",
        "\n",
        "# R2 score / R2スコア\n",
        "print(\"R^2 :\", r2_score(y_test, predictions))\n",
        "# Adjusted R2 / 調整後R2\n",
        "print(\"Adjusted R^2 :\", 1 - (1-xgb_model.score(X, y))*(len(y)-1)/(len(y)-X.shape[1]-1))\n",
        "# Mean Average Error / 平均平均誤差\n",
        "print(\"MAE :\", mean_absolute_error(y_test,predictions))\n",
        "# Root Mean Squared Error / 平均二乗誤差\n",
        "print(\"RMSE:\", np.sqrt(mean_squared_error(y_test, predictions)))"
      ],
      "metadata": {
        "id": "mOeLUfpSq4Ce"
      },
      "execution_count": null,
      "outputs": []
    },
    {
      "cell_type": "markdown",
      "source": [
        "# Prediction"
      ],
      "metadata": {
        "id": "uruSLc0r7uPE"
      }
    },
    {
      "cell_type": "code",
      "source": [
        "# Make predictions and joined them back to test data\n",
        "# 予測を立て、それをテストデータに結びつける\n",
        "gdf_out = X_test.copy()\n",
        "gdf_out[\"price_predicted\"] = xgb_model_opt.predict(X_test)\n",
        "gdf_out = gdf_out.merge(gdf_load, left_on=\"index\", right_on=\"index\")[\n",
        "    [\"h3\", \"price\", \"price_predicted\"]\n",
        "]\n",
        "gdf_out.reset_index(drop=True, inplace=True)\n",
        "gdf_out"
      ],
      "metadata": {
        "id": "tMHsjVsLCC_N"
      },
      "execution_count": null,
      "outputs": []
    },
    {
      "cell_type": "code",
      "source": [
        "# Export DataFrame to local file (.parquet)\n",
        "# データフレームをローカルファイル（.parquet）にエクスポートする。\n",
        "# gdf_out.to_parquet('london_listings_2023_predicted.parquet')"
      ],
      "metadata": {
        "id": "wvC5H99GfkPf"
      },
      "execution_count": 62,
      "outputs": []
    },
    {
      "cell_type": "code",
      "source": [
        "# Upload result to our Carto account and overwrite same table if already present\n",
        "# 結果をCartoアカウントにアップロードし、同じテーブルが存在する場合は上書きする\n",
        "job_config = bigquery.LoadJobConfig(schema=[], write_disposition=\"WRITE_TRUNCATE\")\n",
        "carto_dw_client.load_table_from_dataframe(\n",
        "    gdf_out,\n",
        "    f\"{cdw_dataset}.shared_us.london_listings_2023_predicted\",\n",
        "    job_config=job_config,\n",
        ").result()"
      ],
      "metadata": {
        "id": "ulma4lWiGzpv"
      },
      "execution_count": null,
      "outputs": []
    },
    {
      "cell_type": "code",
      "source": [
        "# List tables again and see if out new table is there\n",
        "# テーブルを再度リストアップし、新しいテーブルがあるかどうかを確認する\n",
        "dataset_id = 'shared_us'\n",
        "tables = carto_dw_client.list_tables(dataset_id)\n",
        "\n",
        "print(\"Tables contained in '{}':\".format(dataset_id))\n",
        "for table in tables:\n",
        "    print(\"{}.{}.{}\".format(table.project, table.dataset_id, table.table_id))"
      ],
      "metadata": {
        "id": "yzMEGaluKCp_"
      },
      "execution_count": null,
      "outputs": []
    },
    {
      "cell_type": "code",
      "source": [
        "# Create final map to visualize our predictions\n",
        "# 予測を視覚化する最終マップを作成する\n",
        "pdkc.register_carto_layer()\n",
        "\n",
        "layer = pdk.Layer(\n",
        "    \"CartoLayer\",\n",
        "    data=f\"SELECT h3, price_predicted, price FROM `{cdw_dataset}.shared_us.london_listings_2023_predicted`\",\n",
        "    type_=pdkc.MapType.QUERY,\n",
        "    connection=pdkc.CartoConnection.CARTO_DW,\n",
        "    credentials=pdkc.get_layer_credentials(carto_auth),\n",
        "\n",
        "    aggregation_exp=pdk.types.String(\"avg(price_predicted) as price_predicted\"),\n",
        "    aggregation_res_level=8,\n",
        "    geo_column=pdk.types.String(\"h3\"),\n",
        "\n",
        "    #get_fill_color='[255, 255, properties.growth * 255]'\n",
        "    get_fill_color=pdkc.styles.color_bins(\"price_predicted\",[0, 100, 200, 300, 400, 500], \"Sunset\"),\n",
        "    opacity=0.5,\n",
        "\n",
        "    get_elevation='properties.price_predicted * properties.price_predicted',\n",
        "    elevation_scale=0.01,\n",
        "\n",
        "    get_elevation='properties.price_predicted',\n",
        "    elevation_scale=10,\n",
        "\n",
        "    # get_line_color=[0, 0, 0, 100],\n",
        "    # line_width_min_pixels=1,\n",
        "\n",
        "    stroked=False,\n",
        "    filled=True,\n",
        "    extruded=True,\n",
        "    wireframe=True,\n",
        "    auto_highlight=True,\n",
        "    pickable=True\n",
        ")\n",
        "\n",
        "tooltip = {\"html\": \"<b>H3 Index:</b> {id} <br /><b>Predicted Price:</b> {price_predicted}\"}\n",
        "\n",
        "view_state = pdk.ViewState(\n",
        "    latitude=51.50071697877869,\n",
        "    longitude=-0.12461158468895285,\n",
        "    zoom=8,\n",
        "    pitch=45,\n",
        "    bearing=0\n",
        "  )\n",
        "\n",
        "pdk.Deck(layer, map_style=pdk.map_styles.DARK, tooltip=tooltip, initial_view_state=view_state).to_html(iframe_height=800)"
      ],
      "metadata": {
        "id": "LmFBOQfLDII6"
      },
      "execution_count": null,
      "outputs": []
    }
  ]
}